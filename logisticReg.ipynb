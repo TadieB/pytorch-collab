{
  "nbformat": 4,
  "nbformat_minor": 0,
  "metadata": {
    "colab": {
      "provenance": [],
      "authorship_tag": "ABX9TyNdjrmahYFHzEs9Oht7t8Or",
      "include_colab_link": true
    },
    "kernelspec": {
      "name": "python3",
      "display_name": "Python 3"
    },
    "language_info": {
      "name": "python"
    }
  },
  "cells": [
    {
      "cell_type": "markdown",
      "metadata": {
        "id": "view-in-github",
        "colab_type": "text"
      },
      "source": [
        "<a href=\"https://colab.research.google.com/github/TadieB/pytorch-collab/blob/main/logisticReg.ipynb\" target=\"_parent\"><img src=\"https://colab.research.google.com/assets/colab-badge.svg\" alt=\"Open In Colab\"/></a>"
      ]
    },
    {
      "cell_type": "markdown",
      "source": [
        "# Import Libraries"
      ],
      "metadata": {
        "id": "yncxBefaGjJ0"
      }
    },
    {
      "cell_type": "code",
      "execution_count": 1,
      "metadata": {
        "id": "Wi6dpJd7Kl55"
      },
      "outputs": [],
      "source": [
        "# Imports\n",
        "import torch\n",
        "import torchvision\n",
        "from torchvision.datasets import MNIST"
      ]
    },
    {
      "cell_type": "markdown",
      "source": [
        "# Download and Visualize Datasets"
      ],
      "metadata": {
        "id": "t1j42m5bG6lb"
      }
    },
    {
      "cell_type": "code",
      "source": [
        "# download training dataset\n",
        "dataset = MNIST(root='data/',download=True)"
      ],
      "metadata": {
        "colab": {
          "base_uri": "https://localhost:8080/"
        },
        "id": "04areulnMvft",
        "outputId": "2236920a-67e7-4f88-820c-91ca07bd7deb"
      },
      "execution_count": 2,
      "outputs": [
        {
          "output_type": "stream",
          "name": "stdout",
          "text": [
            "Downloading http://yann.lecun.com/exdb/mnist/train-images-idx3-ubyte.gz\n",
            "Downloading http://yann.lecun.com/exdb/mnist/train-images-idx3-ubyte.gz to data/MNIST/raw/train-images-idx3-ubyte.gz\n"
          ]
        },
        {
          "output_type": "stream",
          "name": "stderr",
          "text": [
            "100%|██████████| 9912422/9912422 [00:00<00:00, 231796475.55it/s]"
          ]
        },
        {
          "output_type": "stream",
          "name": "stdout",
          "text": [
            "Extracting data/MNIST/raw/train-images-idx3-ubyte.gz to data/MNIST/raw\n"
          ]
        },
        {
          "output_type": "stream",
          "name": "stderr",
          "text": [
            "\n"
          ]
        },
        {
          "output_type": "stream",
          "name": "stdout",
          "text": [
            "\n",
            "Downloading http://yann.lecun.com/exdb/mnist/train-labels-idx1-ubyte.gz\n",
            "Downloading http://yann.lecun.com/exdb/mnist/train-labels-idx1-ubyte.gz to data/MNIST/raw/train-labels-idx1-ubyte.gz\n"
          ]
        },
        {
          "output_type": "stream",
          "name": "stderr",
          "text": [
            "100%|██████████| 28881/28881 [00:00<00:00, 12517897.47it/s]\n"
          ]
        },
        {
          "output_type": "stream",
          "name": "stdout",
          "text": [
            "Extracting data/MNIST/raw/train-labels-idx1-ubyte.gz to data/MNIST/raw\n",
            "\n",
            "Downloading http://yann.lecun.com/exdb/mnist/t10k-images-idx3-ubyte.gz\n",
            "Downloading http://yann.lecun.com/exdb/mnist/t10k-images-idx3-ubyte.gz to data/MNIST/raw/t10k-images-idx3-ubyte.gz\n"
          ]
        },
        {
          "output_type": "stream",
          "name": "stderr",
          "text": [
            "100%|██████████| 1648877/1648877 [00:00<00:00, 76493069.47it/s]"
          ]
        },
        {
          "output_type": "stream",
          "name": "stdout",
          "text": [
            "Extracting data/MNIST/raw/t10k-images-idx3-ubyte.gz to data/MNIST/raw\n"
          ]
        },
        {
          "output_type": "stream",
          "name": "stderr",
          "text": [
            "\n"
          ]
        },
        {
          "output_type": "stream",
          "name": "stdout",
          "text": [
            "\n",
            "Downloading http://yann.lecun.com/exdb/mnist/t10k-labels-idx1-ubyte.gz\n",
            "Downloading http://yann.lecun.com/exdb/mnist/t10k-labels-idx1-ubyte.gz to data/MNIST/raw/t10k-labels-idx1-ubyte.gz\n"
          ]
        },
        {
          "output_type": "stream",
          "name": "stderr",
          "text": [
            "100%|██████████| 4542/4542 [00:00<00:00, 4572858.56it/s]\n"
          ]
        },
        {
          "output_type": "stream",
          "name": "stdout",
          "text": [
            "Extracting data/MNIST/raw/t10k-labels-idx1-ubyte.gz to data/MNIST/raw\n",
            "\n"
          ]
        }
      ]
    },
    {
      "cell_type": "code",
      "source": [
        "dataset"
      ],
      "metadata": {
        "colab": {
          "base_uri": "https://localhost:8080/"
        },
        "id": "dTgoyzxxPSBm",
        "outputId": "585e2e72-e5f4-4691-a5a4-52af7e05a9ea"
      },
      "execution_count": 3,
      "outputs": [
        {
          "output_type": "execute_result",
          "data": {
            "text/plain": [
              "Dataset MNIST\n",
              "    Number of datapoints: 60000\n",
              "    Root location: data/\n",
              "    Split: Train"
            ]
          },
          "metadata": {},
          "execution_count": 3
        }
      ]
    },
    {
      "cell_type": "code",
      "source": [
        "len(dataset)"
      ],
      "metadata": {
        "colab": {
          "base_uri": "https://localhost:8080/"
        },
        "id": "QdgoEeE6NJCX",
        "outputId": "49b8b81e-abb6-4c29-ae5b-65bf367596d1"
      },
      "execution_count": 4,
      "outputs": [
        {
          "output_type": "execute_result",
          "data": {
            "text/plain": [
              "60000"
            ]
          },
          "metadata": {},
          "execution_count": 4
        }
      ]
    },
    {
      "cell_type": "code",
      "source": [
        "test_dataset = MNIST(root='data/',train=False)\n",
        "len(test_dataset)"
      ],
      "metadata": {
        "colab": {
          "base_uri": "https://localhost:8080/"
        },
        "id": "6JOs9Pn6PKgO",
        "outputId": "7e495de3-e42b-4712-b1f7-15943015e31f"
      },
      "execution_count": 5,
      "outputs": [
        {
          "output_type": "execute_result",
          "data": {
            "text/plain": [
              "10000"
            ]
          },
          "metadata": {},
          "execution_count": 5
        }
      ]
    },
    {
      "cell_type": "code",
      "source": [
        "dataset[0]"
      ],
      "metadata": {
        "colab": {
          "base_uri": "https://localhost:8080/"
        },
        "id": "cmLNMtqdU0un",
        "outputId": "7f6732ac-825d-4a3b-f4d9-c985db5e2761"
      },
      "execution_count": 6,
      "outputs": [
        {
          "output_type": "execute_result",
          "data": {
            "text/plain": [
              "(<PIL.Image.Image image mode=L size=28x28>, 5)"
            ]
          },
          "metadata": {},
          "execution_count": 6
        }
      ]
    },
    {
      "cell_type": "code",
      "source": [
        "import matplotlib.pyplot as plt\n",
        "\n",
        "%matplotlib inline"
      ],
      "metadata": {
        "id": "ORSgw7K0VMqv"
      },
      "execution_count": 7,
      "outputs": []
    },
    {
      "cell_type": "code",
      "source": [
        "image,label = dataset[10]\n",
        "\n",
        "plt.imshow(image,cmap='gray')\n",
        "print('label:',label)"
      ],
      "metadata": {
        "colab": {
          "base_uri": "https://localhost:8080/",
          "height": 448
        },
        "id": "iQiHBzK8Wig1",
        "outputId": "9670fc56-793b-4e4f-9596-ae6b72dd53cd"
      },
      "execution_count": 8,
      "outputs": [
        {
          "output_type": "stream",
          "name": "stdout",
          "text": [
            "label: 3\n"
          ]
        },
        {
          "output_type": "display_data",
          "data": {
            "text/plain": [
              "<Figure size 640x480 with 1 Axes>"
            ],
            "image/png": "[encoded data removed]"
          },
          "metadata": {}
        }
      ]
    },
    {
      "cell_type": "code",
      "source": [
        "# pytorch doesn't know how to work with images. so convert them to tensors\n",
        "\n",
        "import torchvision.transforms as transforms"
      ],
      "metadata": {
        "id": "m7TSZl2nXSrj"
      },
      "execution_count": 9,
      "outputs": []
    },
    {
      "cell_type": "code",
      "source": [
        "# MNIST dataset (image and labels)\n",
        "dataset = MNIST(root = 'data/',\n",
        "                train = True,\n",
        "                transform= transforms.ToTensor())"
      ],
      "metadata": {
        "id": "zG30In6RZUgW"
      },
      "execution_count": 10,
      "outputs": []
    },
    {
      "cell_type": "code",
      "source": [
        "img_tensor, label = dataset[0]\n",
        "print(img_tensor.shape, label)"
      ],
      "metadata": {
        "colab": {
          "base_uri": "https://localhost:8080/"
        },
        "id": "6Xm4s2EMcMgo",
        "outputId": "1ae11d38-d635-42c0-9789-17c2229b29ba"
      },
      "execution_count": 11,
      "outputs": [
        {
          "output_type": "stream",
          "name": "stdout",
          "text": [
            "torch.Size([1, 28, 28]) 5\n"
          ]
        }
      ]
    },
    {
      "cell_type": "code",
      "source": [
        "print(img_tensor[:,10:15,10:15])\n",
        "print(torch.max(img_tensor),torch.min(img_tensor))"
      ],
      "metadata": {
        "colab": {
          "base_uri": "https://localhost:8080/"
        },
        "id": "l-IBvaM2cgRG",
        "outputId": "f62321b1-d707-49b1-998c-919c20073dab"
      },
      "execution_count": 12,
      "outputs": [
        {
          "output_type": "stream",
          "name": "stdout",
          "text": [
            "tensor([[[0.0039, 0.6039, 0.9922, 0.3529, 0.0000],\n",
            "         [0.0000, 0.5451, 0.9922, 0.7451, 0.0078],\n",
            "         [0.0000, 0.0431, 0.7451, 0.9922, 0.2745],\n",
            "         [0.0000, 0.0000, 0.1373, 0.9451, 0.8824],\n",
            "         [0.0000, 0.0000, 0.0000, 0.3176, 0.9412]]])\n",
            "tensor(1.) tensor(0.)\n"
          ]
        }
      ]
    },
    {
      "cell_type": "code",
      "source": [
        "# img_tensor"
      ],
      "metadata": {
        "id": "2J4sq7v9fkyc"
      },
      "execution_count": 13,
      "outputs": []
    },
    {
      "cell_type": "code",
      "source": [
        "plt.imshow(img_tensor[0,10:15,10:15],cmap='gray')"
      ],
      "metadata": {
        "colab": {
          "base_uri": "https://localhost:8080/",
          "height": 448
        },
        "id": "gKcMNY4lgZnP",
        "outputId": "44e19199-482f-4df4-e9b8-32fd80f5ad9a"
      },
      "execution_count": 14,
      "outputs": [
        {
          "output_type": "execute_result",
          "data": {
            "text/plain": [
              "<matplotlib.image.AxesImage at 0x7be803f9f4c0>"
            ]
          },
          "metadata": {},
          "execution_count": 14
        },
        {
          "output_type": "display_data",
          "data": {
            "text/plain": [
              "<Figure size 640x480 with 1 Axes>"
            ],
            "image/png": "[encoded data removed]"
          },
          "metadata": {}
        }
      ]
    },
    {
      "cell_type": "markdown",
      "source": [
        "# Split Datasets Training and Validation"
      ],
      "metadata": {
        "id": "vLT_1537iYGi"
      }
    },
    {
      "cell_type": "code",
      "source": [
        "from torch.utils.data import random_split\n",
        "\n",
        "train_ds, val_ds = random_split(dataset,[50000, 10000])\n",
        "len(train_ds),len(val_ds)\n"
      ],
      "metadata": {
        "colab": {
          "base_uri": "https://localhost:8080/"
        },
        "id": "d3mtI6LTiLRB",
        "outputId": "e6cb5b4e-61d9-492c-b9ac-b91fbe680754"
      },
      "execution_count": 15,
      "outputs": [
        {
          "output_type": "execute_result",
          "data": {
            "text/plain": [
              "(50000, 10000)"
            ]
          },
          "metadata": {},
          "execution_count": 15
        }
      ]
    },
    {
      "cell_type": "code",
      "source": [
        "from torch.utils.data import DataLoader\n",
        "\n",
        "batch_size = 128\n",
        "\n",
        "train_loader = DataLoader(train_ds, batch_size, shuffle=True)\n",
        "val_loader = DataLoader(val_ds, batch_size)"
      ],
      "metadata": {
        "id": "TC-DmZZek8_z"
      },
      "execution_count": 16,
      "outputs": []
    },
    {
      "cell_type": "markdown",
      "source": [
        "# Model"
      ],
      "metadata": {
        "id": "Cw5NlI0fnc95"
      }
    },
    {
      "cell_type": "code",
      "source": [
        "import torch.nn as nn\n",
        "\n",
        "input_size = 28*28\n",
        "num_classes = 10\n",
        "# logistic regression model\n",
        "model = nn.Linear(input_size, num_classes)"
      ],
      "metadata": {
        "id": "iQ0-AdFsltW1"
      },
      "execution_count": 17,
      "outputs": []
    },
    {
      "cell_type": "code",
      "source": [
        "print(model.weight.shape)"
      ],
      "metadata": {
        "colab": {
          "base_uri": "https://localhost:8080/"
        },
        "id": "r_3S634upVL9",
        "outputId": "ac4f36d0-b882-40d8-c6ad-77bcfd045438"
      },
      "execution_count": 18,
      "outputs": [
        {
          "output_type": "stream",
          "name": "stdout",
          "text": [
            "torch.Size([10, 784])\n"
          ]
        }
      ]
    },
    {
      "cell_type": "code",
      "source": [
        "model.weight"
      ],
      "metadata": {
        "colab": {
          "base_uri": "https://localhost:8080/"
        },
        "id": "QvbMGMkap0tI",
        "outputId": "a92ced95-c1f0-463f-f30f-39b9993e863f"
      },
      "execution_count": 19,
      "outputs": [
        {
          "output_type": "execute_result",
          "data": {
            "text/plain": [
              "Parameter containing:\n",
              "tensor([[-0.0267,  0.0286, -0.0272,  ..., -0.0299, -0.0040, -0.0022],\n",
              "        [-0.0068, -0.0321, -0.0031,  ..., -0.0217, -0.0313, -0.0351],\n",
              "        [ 0.0326,  0.0249,  0.0030,  ...,  0.0150, -0.0108,  0.0193],\n",
              "        ...,\n",
              "        [ 0.0117, -0.0148, -0.0037,  ..., -0.0075,  0.0064, -0.0144],\n",
              "        [-0.0012,  0.0061,  0.0178,  ...,  0.0028, -0.0026, -0.0120],\n",
              "        [-0.0303, -0.0084, -0.0252,  ...,  0.0236, -0.0347, -0.0283]],\n",
              "       requires_grad=True)"
            ]
          },
          "metadata": {},
          "execution_count": 19
        }
      ]
    },
    {
      "cell_type": "code",
      "source": [
        "model.bias"
      ],
      "metadata": {
        "colab": {
          "base_uri": "https://localhost:8080/"
        },
        "id": "ufjFu-WwqCsL",
        "outputId": "343b55a9-06b7-4acc-d5f3-ec372202b942"
      },
      "execution_count": 20,
      "outputs": [
        {
          "output_type": "execute_result",
          "data": {
            "text/plain": [
              "Parameter containing:\n",
              "tensor([-0.0202, -0.0295, -0.0210, -0.0018, -0.0273,  0.0063, -0.0211, -0.0272,\n",
              "        -0.0064,  0.0022], requires_grad=True)"
            ]
          },
          "metadata": {},
          "execution_count": 20
        }
      ]
    },
    {
      "cell_type": "code",
      "source": [
        "print(model.bias.shape)"
      ],
      "metadata": {
        "colab": {
          "base_uri": "https://localhost:8080/"
        },
        "id": "i8f-V0JSqJ3K",
        "outputId": "60d41d20-f86e-4dfc-9385-5757a08646ec"
      },
      "execution_count": 21,
      "outputs": [
        {
          "output_type": "stream",
          "name": "stdout",
          "text": [
            "torch.Size([10])\n"
          ]
        }
      ]
    },
    {
      "cell_type": "code",
      "source": [
        "# for images, labels in train_loader:\n",
        "#   print(labels)\n",
        "#   print(images.shape)\n",
        "#   outputs = model(images)\n",
        "#   break"
      ],
      "metadata": {
        "id": "RPYU__ckqRZw"
      },
      "execution_count": 38,
      "outputs": []
    },
    {
      "cell_type": "code",
      "source": [
        "# To remove the above error, .reshape method of\n",
        "# a tensor will allow us to efficiently\n",
        "# view each image as a flat vector\n",
        "# without really changing the underlying data.\n",
        "\n",
        "class MnistModel(nn.Module):\n",
        "  def __init__(self):\n",
        "    super().__init__()\n",
        "    self.linear = nn.Linear(input_size,num_classes)\n",
        "\n",
        "  def forward(self,xb):\n",
        "    xb = xb.reshape(-1,784)\n",
        "    out = self.linear(xb)\n",
        "    return out\n",
        "\n",
        "model = MnistModel()\n",
        "\n",
        "# the model nolonger has .weight, .bias attributes , they are inside the\n",
        "#  . linear attribute, but it does have .parameters method which returns a list\n",
        "# containing the weights and bias and can be used by a pyTorch optimize."
      ],
      "metadata": {
        "id": "qNQjiZPttHLq"
      },
      "execution_count": 27,
      "outputs": []
    },
    {
      "cell_type": "code",
      "source": [
        "print(model.linear.weight.shape, model.linear.bias.shape)"
      ],
      "metadata": {
        "colab": {
          "base_uri": "https://localhost:8080/"
        },
        "id": "PM8hjcwrxLH3",
        "outputId": "9fdc127a-1154-4eb2-902d-fb522d4581f8"
      },
      "execution_count": 28,
      "outputs": [
        {
          "output_type": "stream",
          "name": "stdout",
          "text": [
            "torch.Size([10, 784]) torch.Size([10])\n"
          ]
        }
      ]
    },
    {
      "cell_type": "code",
      "source": [
        "list(model.parameters())"
      ],
      "metadata": {
        "colab": {
          "base_uri": "https://localhost:8080/"
        },
        "id": "qtJLJIwuxZti",
        "outputId": "0330d343-1938-4791-9b34-fca949ea5dbb"
      },
      "execution_count": 29,
      "outputs": [
        {
          "output_type": "execute_result",
          "data": {
            "text/plain": [
              "[Parameter containing:\n",
              " tensor([[-0.0217,  0.0277,  0.0031,  ...,  0.0244,  0.0007,  0.0137],\n",
              "         [-0.0198, -0.0097,  0.0312,  ...,  0.0264, -0.0066,  0.0174],\n",
              "         [ 0.0009, -0.0212, -0.0227,  ..., -0.0333,  0.0047, -0.0281],\n",
              "         ...,\n",
              "         [ 0.0198,  0.0065,  0.0142,  ...,  0.0285,  0.0161, -0.0308],\n",
              "         [-0.0279, -0.0098,  0.0350,  ...,  0.0188,  0.0079,  0.0109],\n",
              "         [ 0.0304,  0.0352,  0.0348,  ...,  0.0283, -0.0176, -0.0327]],\n",
              "        requires_grad=True),\n",
              " Parameter containing:\n",
              " tensor([ 0.0072, -0.0343,  0.0193,  0.0037,  0.0144, -0.0203,  0.0322, -0.0336,\n",
              "          0.0195, -0.0104], requires_grad=True)]"
            ]
          },
          "metadata": {},
          "execution_count": 29
        }
      ]
    },
    {
      "cell_type": "code",
      "source": [
        "for images, labels in train_loader:\n",
        "  print('images.shape:', images.shape)\n",
        "  outputs = model(images)\n",
        "  break\n",
        "\n",
        "print('outputs.shape:', outputs.shape)\n",
        "print('sample outputs:\\n',outputs[:2].data)"
      ],
      "metadata": {
        "colab": {
          "base_uri": "https://localhost:8080/"
        },
        "id": "w2VKgnatxeeO",
        "outputId": "eb19d942-a934-4126-b1a7-2c59520b1ecf"
      },
      "execution_count": 31,
      "outputs": [
        {
          "output_type": "stream",
          "name": "stdout",
          "text": [
            "images.shape: torch.Size([128, 1, 28, 28])\n",
            "outputs.shape: torch.Size([128, 10])\n",
            "sample outputs:\n",
            " tensor([[ 0.1207, -0.2088, -0.0750,  0.0344, -0.1098,  0.0910, -0.2157, -0.1409,\n",
            "          0.0830, -0.3348],\n",
            "        [-0.0683, -0.1112,  0.1769,  0.1722,  0.1142,  0.0346, -0.0674, -0.1094,\n",
            "          0.1442, -0.3633]])\n"
          ]
        }
      ]
    },
    {
      "cell_type": "code",
      "source": [
        "outputs[0]"
      ],
      "metadata": {
        "id": "2gIQn79LBxw8",
        "outputId": "d06e1d53-4587-432c-abf0-ef2e28ca7ea7",
        "colab": {
          "base_uri": "https://localhost:8080/"
        }
      },
      "execution_count": 32,
      "outputs": [
        {
          "output_type": "execute_result",
          "data": {
            "text/plain": [
              "tensor([ 0.1207, -0.2088, -0.0750,  0.0344, -0.1098,  0.0910, -0.2157, -0.1409,\n",
              "         0.0830, -0.3348], grad_fn=<SelectBackward0>)"
            ]
          },
          "metadata": {},
          "execution_count": 32
        }
      ]
    },
    {
      "cell_type": "code",
      "source": [
        "exps = torch.exp(outputs[0])\n",
        "exps"
      ],
      "metadata": {
        "id": "uX_3zOxJB8Ni",
        "outputId": "7e1bee3b-4081-4a1b-9e2e-91b792214a09",
        "colab": {
          "base_uri": "https://localhost:8080/"
        }
      },
      "execution_count": 34,
      "outputs": [
        {
          "output_type": "execute_result",
          "data": {
            "text/plain": [
              "tensor([1.1283, 0.8116, 0.9277, 1.0350, 0.8960, 1.0953, 0.8059, 0.8686, 1.0865,\n",
              "        0.7155], grad_fn=<ExpBackward0>)"
            ]
          },
          "metadata": {},
          "execution_count": 34
        }
      ]
    },
    {
      "cell_type": "markdown",
      "source": [
        "# SoftMax"
      ],
      "metadata": {
        "id": "LAnKfnHC5SmV"
      }
    },
    {
      "cell_type": "code",
      "source": [
        "# changing each output between 0 to 1, add up to 1.\n",
        "\n",
        "probs = exps/torch.sum(exps)\n",
        "probs"
      ],
      "metadata": {
        "colab": {
          "base_uri": "https://localhost:8080/"
        },
        "id": "CWGDmmse5SJn",
        "outputId": "8d6a5af7-3e7c-498c-8a6a-0ca1067f9e8b"
      },
      "execution_count": 36,
      "outputs": [
        {
          "output_type": "execute_result",
          "data": {
            "text/plain": [
              "tensor([0.1204, 0.0866, 0.0990, 0.1105, 0.0956, 0.1169, 0.0860, 0.0927, 0.1159,\n",
              "        0.0764], grad_fn=<DivBackward0>)"
            ]
          },
          "metadata": {},
          "execution_count": 36
        }
      ]
    },
    {
      "cell_type": "code",
      "source": [
        "torch.sum(probs)"
      ],
      "metadata": {
        "id": "oWmpumPVCsjr",
        "outputId": "edae1f70-a851-4d6a-ed09-9e4af0d4a7bd",
        "colab": {
          "base_uri": "https://localhost:8080/"
        }
      },
      "execution_count": 37,
      "outputs": [
        {
          "output_type": "execute_result",
          "data": {
            "text/plain": [
              "tensor(1., grad_fn=<SumBackward0>)"
            ]
          },
          "metadata": {},
          "execution_count": 37
        }
      ]
    },
    {
      "cell_type": "code",
      "source": [
        "import torch.nn.functional as F\n",
        "\n",
        "#apply softmax for each output row\n",
        "probs = F.softmax(outputs, dim=1)\n",
        "\n",
        "#look at sample probabilities\n",
        "print('Sample probabilities:\\n', probs[:2].data)\n",
        "\n",
        "#add up the probabilities of an output row\n",
        "print('sum:', torch.sum(probs[0]).item())"
      ],
      "metadata": {
        "id": "Ecr3CSokDeN9",
        "outputId": "e246ee4a-b59b-493f-b37a-6c592d3206d3",
        "colab": {
          "base_uri": "https://localhost:8080/"
        }
      },
      "execution_count": 39,
      "outputs": [
        {
          "output_type": "stream",
          "name": "stdout",
          "text": [
            "Sample probabilities:\n",
            " tensor([[0.1204, 0.0866, 0.0990, 0.1105, 0.0956, 0.1169, 0.0860, 0.0927, 0.1159,\n",
            "         0.0764],\n",
            "        [0.0930, 0.0890, 0.1188, 0.1182, 0.1116, 0.1030, 0.0930, 0.0892, 0.1150,\n",
            "         0.0692]])\n",
            "sum: 1.0000001192092896\n"
          ]
        }
      ]
    },
    {
      "cell_type": "code",
      "source": [
        "# Determine the predicted label for each image by simply choosing\n",
        "# the index of the element with the highest prob in each output row.\n",
        "\n",
        "max_probs, preds = torch.max(probs, dim=1)\n",
        "print(preds)\n",
        "print(max_probs)\n",
        "\n",
        "#Printed above are the predicted labels for the first batch of training images."
      ],
      "metadata": {
        "id": "yv1oFhpEFB29",
        "outputId": "807bd1ec-ff7c-49e1-b652-3bbd2a93bd61",
        "colab": {
          "base_uri": "https://localhost:8080/"
        }
      },
      "execution_count": 42,
      "outputs": [
        {
          "output_type": "stream",
          "name": "stdout",
          "text": [
            "tensor([0, 2, 2, 3, 3, 4, 6, 2, 8, 8, 3, 3, 5, 5, 5, 3, 5, 5, 4, 5, 5, 0, 2, 3,\n",
            "        3, 3, 3, 3, 5, 2, 7, 3, 3, 2, 2, 3, 2, 3, 7, 4, 3, 3, 0, 5, 5, 2, 5, 3,\n",
            "        8, 3, 3, 0, 3, 5, 2, 5, 3, 2, 3, 2, 4, 2, 5, 0, 3, 5, 3, 7, 0, 8, 2, 3,\n",
            "        2, 5, 6, 3, 2, 3, 2, 3, 4, 8, 3, 7, 5, 5, 0, 5, 7, 5, 5, 7, 3, 5, 2, 7,\n",
            "        2, 3, 3, 0, 3, 2, 3, 5, 3, 3, 5, 3, 0, 3, 2, 3, 5, 5, 3, 4, 5, 0, 2, 3,\n",
            "        2, 3, 3, 2, 2, 3, 2, 3])\n",
            "tensor([0.1204, 0.1188, 0.1360, 0.1139, 0.1316, 0.1225, 0.1174, 0.1240, 0.1318,\n",
            "        0.1305, 0.1334, 0.1280, 0.1152, 0.1399, 0.1212, 0.1210, 0.1384, 0.1284,\n",
            "        0.1451, 0.1151, 0.1288, 0.1207, 0.1443, 0.1334, 0.1227, 0.1605, 0.1687,\n",
            "        0.1382, 0.1249, 0.1389, 0.1282, 0.1364, 0.1254, 0.1672, 0.1241, 0.1251,\n",
            "        0.1138, 0.1292, 0.1181, 0.1314, 0.1249, 0.1219, 0.1208, 0.1361, 0.1412,\n",
            "        0.1228, 0.1381, 0.1363, 0.1224, 0.1555, 0.1198, 0.1261, 0.1394, 0.1236,\n",
            "        0.1449, 0.1363, 0.1332, 0.1315, 0.1299, 0.1226, 0.1212, 0.1238, 0.1317,\n",
            "        0.1309, 0.1402, 0.1348, 0.1448, 0.1328, 0.1108, 0.1196, 0.1268, 0.1253,\n",
            "        0.1571, 0.1204, 0.1154, 0.1479, 0.1257, 0.1200, 0.1490, 0.1295, 0.1310,\n",
            "        0.1151, 0.1582, 0.1236, 0.1257, 0.1200, 0.1417, 0.1153, 0.1274, 0.1272,\n",
            "        0.1224, 0.1174, 0.1611, 0.1360, 0.1338, 0.1292, 0.1186, 0.1167, 0.1240,\n",
            "        0.1246, 0.1369, 0.1160, 0.1206, 0.1420, 0.1376, 0.1302, 0.1302, 0.1244,\n",
            "        0.1219, 0.1243, 0.1331, 0.1203, 0.1255, 0.1274, 0.1436, 0.1236, 0.1320,\n",
            "        0.1185, 0.1278, 0.1457, 0.1252, 0.1250, 0.1228, 0.1210, 0.1254, 0.1419,\n",
            "        0.1366, 0.1508], grad_fn=<MaxBackward0>)\n"
          ]
        }
      ]
    },
    {
      "cell_type": "markdown",
      "source": [
        "# Evaluation Metric and Loss Function"
      ],
      "metadata": {
        "id": "0Qqpe3DjGTS5"
      }
    },
    {
      "cell_type": "code",
      "source": [],
      "metadata": {
        "id": "9NR24-hKGOAa"
      },
      "execution_count": null,
      "outputs": []
    }
  ]
}