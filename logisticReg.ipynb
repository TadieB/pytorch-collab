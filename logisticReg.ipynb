{
  "nbformat": 4,
  "nbformat_minor": 0,
  "metadata": {
    "colab": {
      "provenance": [],
      "authorship_tag": "ABX9TyPHlVosHUoYjDved3xPlDUE",
      "include_colab_link": true
    },
    "kernelspec": {
      "name": "python3",
      "display_name": "Python 3"
    },
    "language_info": {
      "name": "python"
    }
  },
  "cells": [
    {
      "cell_type": "markdown",
      "metadata": {
        "id": "view-in-github",
        "colab_type": "text"
      },
      "source": [
        "<a href=\"https://colab.research.google.com/github/TadieB/pytorch-collab/blob/main/logisticReg.ipynb\" target=\"_parent\"><img src=\"https://colab.research.google.com/assets/colab-badge.svg\" alt=\"Open In Colab\"/></a>"
      ]
    },
    {
      "cell_type": "markdown",
      "source": [
        "# Import Libraries"
      ],
      "metadata": {
        "id": "yncxBefaGjJ0"
      }
    },
    {
      "cell_type": "code",
      "execution_count": 3,
      "metadata": {
        "id": "Wi6dpJd7Kl55"
      },
      "outputs": [],
      "source": [
        "# Imports\n",
        "import torch\n",
        "import torchvision\n",
        "from torchvision.datasets import MNIST"
      ]
    },
    {
      "cell_type": "markdown",
      "source": [
        "# Download and Visualize Datasets"
      ],
      "metadata": {
        "id": "t1j42m5bG6lb"
      }
    },
    {
      "cell_type": "code",
      "source": [
        "# download training dataset\n",
        "dataset = MNIST(root='data/',download=True)"
      ],
      "metadata": {
        "colab": {
          "base_uri": "https://localhost:8080/"
        },
        "id": "04areulnMvft",
        "outputId": "8e9bf8c2-7dcd-4ebb-f19f-3568b5eed8af"
      },
      "execution_count": 4,
      "outputs": [
        {
          "output_type": "stream",
          "name": "stdout",
          "text": [
            "Downloading http://yann.lecun.com/exdb/mnist/train-images-idx3-ubyte.gz\n",
            "Downloading http://yann.lecun.com/exdb/mnist/train-images-idx3-ubyte.gz to data/MNIST/raw/train-images-idx3-ubyte.gz\n"
          ]
        },
        {
          "output_type": "stream",
          "name": "stderr",
          "text": [
            "100%|██████████| 9912422/9912422 [00:00<00:00, 110390791.97it/s]\n"
          ]
        },
        {
          "output_type": "stream",
          "name": "stdout",
          "text": [
            "Extracting data/MNIST/raw/train-images-idx3-ubyte.gz to data/MNIST/raw\n",
            "\n",
            "Downloading http://yann.lecun.com/exdb/mnist/train-labels-idx1-ubyte.gz\n",
            "Downloading http://yann.lecun.com/exdb/mnist/train-labels-idx1-ubyte.gz to data/MNIST/raw/train-labels-idx1-ubyte.gz\n"
          ]
        },
        {
          "output_type": "stream",
          "name": "stderr",
          "text": [
            "100%|██████████| 28881/28881 [00:00<00:00, 27924318.54it/s]"
          ]
        },
        {
          "output_type": "stream",
          "name": "stdout",
          "text": [
            "Extracting data/MNIST/raw/train-labels-idx1-ubyte.gz to data/MNIST/raw\n",
            "\n",
            "Downloading http://yann.lecun.com/exdb/mnist/t10k-images-idx3-ubyte.gz\n",
            "Downloading http://yann.lecun.com/exdb/mnist/t10k-images-idx3-ubyte.gz to data/MNIST/raw/t10k-images-idx3-ubyte.gz\n"
          ]
        },
        {
          "output_type": "stream",
          "name": "stderr",
          "text": [
            "\n",
            "100%|██████████| 1648877/1648877 [00:00<00:00, 31751654.62it/s]\n"
          ]
        },
        {
          "output_type": "stream",
          "name": "stdout",
          "text": [
            "Extracting data/MNIST/raw/t10k-images-idx3-ubyte.gz to data/MNIST/raw\n",
            "\n",
            "Downloading http://yann.lecun.com/exdb/mnist/t10k-labels-idx1-ubyte.gz\n",
            "Downloading http://yann.lecun.com/exdb/mnist/t10k-labels-idx1-ubyte.gz to data/MNIST/raw/t10k-labels-idx1-ubyte.gz\n"
          ]
        },
        {
          "output_type": "stream",
          "name": "stderr",
          "text": [
            "100%|██████████| 4542/4542 [00:00<00:00, 13844861.02it/s]\n"
          ]
        },
        {
          "output_type": "stream",
          "name": "stdout",
          "text": [
            "Extracting data/MNIST/raw/t10k-labels-idx1-ubyte.gz to data/MNIST/raw\n",
            "\n"
          ]
        }
      ]
    },
    {
      "cell_type": "code",
      "source": [
        "dataset"
      ],
      "metadata": {
        "colab": {
          "base_uri": "https://localhost:8080/"
        },
        "id": "dTgoyzxxPSBm",
        "outputId": "7980e2fb-99ce-4c94-c7f9-05c3b936c916"
      },
      "execution_count": 5,
      "outputs": [
        {
          "output_type": "execute_result",
          "data": {
            "text/plain": [
              "Dataset MNIST\n",
              "    Number of datapoints: 60000\n",
              "    Root location: data/\n",
              "    Split: Train"
            ]
          },
          "metadata": {},
          "execution_count": 5
        }
      ]
    },
    {
      "cell_type": "code",
      "source": [
        "len(dataset)"
      ],
      "metadata": {
        "colab": {
          "base_uri": "https://localhost:8080/"
        },
        "id": "QdgoEeE6NJCX",
        "outputId": "3ff8002d-7b4d-4eba-bbca-3f64ad8900eb"
      },
      "execution_count": 6,
      "outputs": [
        {
          "output_type": "execute_result",
          "data": {
            "text/plain": [
              "60000"
            ]
          },
          "metadata": {},
          "execution_count": 6
        }
      ]
    },
    {
      "cell_type": "code",
      "source": [
        "test_dataset = MNIST(root='data/',train=False)\n",
        "len(test_dataset)"
      ],
      "metadata": {
        "colab": {
          "base_uri": "https://localhost:8080/"
        },
        "id": "6JOs9Pn6PKgO",
        "outputId": "7712ce07-4684-4b4b-9b19-3929f4abb514"
      },
      "execution_count": 7,
      "outputs": [
        {
          "output_type": "execute_result",
          "data": {
            "text/plain": [
              "10000"
            ]
          },
          "metadata": {},
          "execution_count": 7
        }
      ]
    },
    {
      "cell_type": "code",
      "source": [
        "dataset[0]"
      ],
      "metadata": {
        "colab": {
          "base_uri": "https://localhost:8080/"
        },
        "id": "cmLNMtqdU0un",
        "outputId": "937ead02-5cec-4023-8068-96522ef27f6c"
      },
      "execution_count": 8,
      "outputs": [
        {
          "output_type": "execute_result",
          "data": {
            "text/plain": [
              "(<PIL.Image.Image image mode=L size=28x28>, 5)"
            ]
          },
          "metadata": {},
          "execution_count": 8
        }
      ]
    },
    {
      "cell_type": "code",
      "source": [
        "import matplotlib.pyplot as plt\n",
        "\n",
        "%matplotlib inline"
      ],
      "metadata": {
        "id": "ORSgw7K0VMqv"
      },
      "execution_count": 9,
      "outputs": []
    },
    {
      "cell_type": "code",
      "source": [
        "image,label = dataset[10]\n",
        "\n",
        "plt.imshow(image,cmap='gray')\n",
        "print('label:',label)"
      ],
      "metadata": {
        "colab": {
          "base_uri": "https://localhost:8080/",
          "height": 448
        },
        "id": "iQiHBzK8Wig1",
        "outputId": "337dc815-c66a-4e49-b974-61841f0658ee"
      },
      "execution_count": 10,
      "outputs": [
        {
          "output_type": "stream",
          "name": "stdout",
          "text": [
            "label: 3\n"
          ]
        },
        {
          "output_type": "display_data",
          "data": {
            "text/plain": [
              "<Figure size 640x480 with 1 Axes>"
            ],
            "image/png": "[encoded data removed]"
          },
          "metadata": {}
        }
      ]
    },
    {
      "cell_type": "code",
      "source": [
        "# pytorch doesn't know how to work with images. so convert them to tensors\n",
        "\n",
        "import torchvision.transforms as transforms"
      ],
      "metadata": {
        "id": "m7TSZl2nXSrj"
      },
      "execution_count": 11,
      "outputs": []
    },
    {
      "cell_type": "code",
      "source": [
        "# MNIST dataset (image and labels)\n",
        "dataset = MNIST(root = 'data/',\n",
        "                train = True,\n",
        "                transform= transforms.ToTensor())"
      ],
      "metadata": {
        "id": "zG30In6RZUgW"
      },
      "execution_count": 12,
      "outputs": []
    },
    {
      "cell_type": "code",
      "source": [
        "img_tensor, label = dataset[0]\n",
        "print(img_tensor.shape, label)"
      ],
      "metadata": {
        "colab": {
          "base_uri": "https://localhost:8080/"
        },
        "id": "6Xm4s2EMcMgo",
        "outputId": "c3c39a3a-f2e8-492a-f633-c9e79de63d3d"
      },
      "execution_count": 13,
      "outputs": [
        {
          "output_type": "stream",
          "name": "stdout",
          "text": [
            "torch.Size([1, 28, 28]) 5\n"
          ]
        }
      ]
    },
    {
      "cell_type": "code",
      "source": [
        "print(img_tensor[:,10:15,10:15])\n",
        "print(torch.max(img_tensor),torch.min(img_tensor))"
      ],
      "metadata": {
        "colab": {
          "base_uri": "https://localhost:8080/"
        },
        "id": "l-IBvaM2cgRG",
        "outputId": "80f43e65-1b78-4e26-98bd-382f7eccafd9"
      },
      "execution_count": 14,
      "outputs": [
        {
          "output_type": "stream",
          "name": "stdout",
          "text": [
            "tensor([[[0.0039, 0.6039, 0.9922, 0.3529, 0.0000],\n",
            "         [0.0000, 0.5451, 0.9922, 0.7451, 0.0078],\n",
            "         [0.0000, 0.0431, 0.7451, 0.9922, 0.2745],\n",
            "         [0.0000, 0.0000, 0.1373, 0.9451, 0.8824],\n",
            "         [0.0000, 0.0000, 0.0000, 0.3176, 0.9412]]])\n",
            "tensor(1.) tensor(0.)\n"
          ]
        }
      ]
    },
    {
      "cell_type": "code",
      "source": [
        "# img_tensor"
      ],
      "metadata": {
        "id": "2J4sq7v9fkyc"
      },
      "execution_count": 15,
      "outputs": []
    },
    {
      "cell_type": "code",
      "source": [
        "plt.imshow(img_tensor[0,10:15,10:15],cmap='gray')"
      ],
      "metadata": {
        "colab": {
          "base_uri": "https://localhost:8080/",
          "height": 448
        },
        "id": "gKcMNY4lgZnP",
        "outputId": "44e19199-482f-4df4-e9b8-32fd80f5ad9a"
      },
      "execution_count": 14,
      "outputs": [
        {
          "output_type": "execute_result",
          "data": {
            "text/plain": [
              "<matplotlib.image.AxesImage at 0x7be803f9f4c0>"
            ]
          },
          "metadata": {},
          "execution_count": 14
        },
        {
          "output_type": "display_data",
          "data": {
            "text/plain": [
              "<Figure size 640x480 with 1 Axes>"
            ],
            "image/png": "[encoded data removed]"
          },
          "metadata": {}
        }
      ]
    },
    {
      "cell_type": "markdown",
      "source": [
        "# Split Datasets into Training and Validation"
      ],
      "metadata": {
        "id": "vLT_1537iYGi"
      }
    },
    {
      "cell_type": "code",
      "source": [
        "from torch.utils.data import random_split\n",
        "\n",
        "train_ds, val_ds = random_split(dataset,[50000, 10000])\n",
        "len(train_ds),len(val_ds)\n"
      ],
      "metadata": {
        "colab": {
          "base_uri": "https://localhost:8080/"
        },
        "id": "d3mtI6LTiLRB",
        "outputId": "0ab9b986-4f4f-4248-f7e0-7cde66ce3707"
      },
      "execution_count": 16,
      "outputs": [
        {
          "output_type": "execute_result",
          "data": {
            "text/plain": [
              "(50000, 10000)"
            ]
          },
          "metadata": {},
          "execution_count": 16
        }
      ]
    },
    {
      "cell_type": "code",
      "source": [
        "from torch.utils.data import DataLoader\n",
        "\n",
        "batch_size = 128\n",
        "\n",
        "train_loader = DataLoader(train_ds, batch_size, shuffle=True)\n",
        "val_loader = DataLoader(val_ds, batch_size)"
      ],
      "metadata": {
        "id": "TC-DmZZek8_z"
      },
      "execution_count": 17,
      "outputs": []
    },
    {
      "cell_type": "markdown",
      "source": [
        "# Model"
      ],
      "metadata": {
        "id": "Cw5NlI0fnc95"
      }
    },
    {
      "cell_type": "code",
      "source": [
        "import torch.nn as nn\n",
        "\n",
        "input_size = 28*28\n",
        "num_classes = 10\n",
        "# logistic regression model\n",
        "model = nn.Linear(input_size, num_classes)"
      ],
      "metadata": {
        "id": "iQ0-AdFsltW1"
      },
      "execution_count": 18,
      "outputs": []
    },
    {
      "cell_type": "code",
      "source": [
        "print(model.weight.shape)"
      ],
      "metadata": {
        "colab": {
          "base_uri": "https://localhost:8080/"
        },
        "id": "r_3S634upVL9",
        "outputId": "083b0eab-636d-44e7-f129-1feac1b40777"
      },
      "execution_count": 19,
      "outputs": [
        {
          "output_type": "stream",
          "name": "stdout",
          "text": [
            "torch.Size([10, 784])\n"
          ]
        }
      ]
    },
    {
      "cell_type": "code",
      "source": [
        "model.weight"
      ],
      "metadata": {
        "colab": {
          "base_uri": "https://localhost:8080/"
        },
        "id": "QvbMGMkap0tI",
        "outputId": "dac2d84e-3ca8-43df-fcd3-f9120affddb5"
      },
      "execution_count": 20,
      "outputs": [
        {
          "output_type": "execute_result",
          "data": {
            "text/plain": [
              "Parameter containing:\n",
              "tensor([[-0.0269,  0.0142,  0.0141,  ...,  0.0148, -0.0149,  0.0138],\n",
              "        [ 0.0189,  0.0155,  0.0356,  ...,  0.0275,  0.0115,  0.0041],\n",
              "        [-0.0216,  0.0233, -0.0184,  ...,  0.0066, -0.0204,  0.0349],\n",
              "        ...,\n",
              "        [-0.0091,  0.0017,  0.0225,  ..., -0.0169,  0.0257,  0.0193],\n",
              "        [-0.0218, -0.0111, -0.0248,  ...,  0.0346,  0.0089,  0.0338],\n",
              "        [-0.0331, -0.0112, -0.0159,  ...,  0.0159,  0.0119,  0.0353]],\n",
              "       requires_grad=True)"
            ]
          },
          "metadata": {},
          "execution_count": 20
        }
      ]
    },
    {
      "cell_type": "code",
      "source": [
        "model.bias"
      ],
      "metadata": {
        "colab": {
          "base_uri": "https://localhost:8080/"
        },
        "id": "ufjFu-WwqCsL",
        "outputId": "56c10ff9-5fb8-4dc8-d127-76fefa236b0d"
      },
      "execution_count": 21,
      "outputs": [
        {
          "output_type": "execute_result",
          "data": {
            "text/plain": [
              "Parameter containing:\n",
              "tensor([ 0.0148, -0.0155,  0.0210,  0.0289, -0.0091,  0.0302, -0.0090,  0.0304,\n",
              "         0.0013,  0.0096], requires_grad=True)"
            ]
          },
          "metadata": {},
          "execution_count": 21
        }
      ]
    },
    {
      "cell_type": "code",
      "source": [
        "print(model.bias.shape)"
      ],
      "metadata": {
        "colab": {
          "base_uri": "https://localhost:8080/"
        },
        "id": "i8f-V0JSqJ3K",
        "outputId": "710e0460-5a73-4f01-e086-5c3f66a20422"
      },
      "execution_count": 22,
      "outputs": [
        {
          "output_type": "stream",
          "name": "stdout",
          "text": [
            "torch.Size([10])\n"
          ]
        }
      ]
    },
    {
      "cell_type": "code",
      "source": [
        "# for images, labels in train_loader:\n",
        "#   print(labels)\n",
        "#   print(images.shape)\n",
        "#   outputs = model(images)\n",
        "#   break"
      ],
      "metadata": {
        "id": "RPYU__ckqRZw"
      },
      "execution_count": 23,
      "outputs": []
    },
    {
      "cell_type": "code",
      "source": [
        "# To remove the above error, .reshape method of\n",
        "# a tensor will allow us to efficiently\n",
        "# view each image as a flat vector\n",
        "# without really changing the underlying data.\n",
        "\n",
        "class MnistModel(nn.Module):\n",
        "  def __init__(self):\n",
        "    super().__init__()\n",
        "    self.linear = nn.Linear(input_size,num_classes)\n",
        "\n",
        "  def forward(self,xb):\n",
        "    xb = xb.reshape(-1,784)\n",
        "    out = self.linear(xb)\n",
        "    return out\n",
        "\n",
        "model = MnistModel()\n",
        "\n",
        "# the model nolonger has .weight, .bias attributes , they are inside the\n",
        "#  . linear attribute, but it does have .parameters method which returns a list\n",
        "# containing the weights and bias and can be used by a pyTorch optimize."
      ],
      "metadata": {
        "id": "qNQjiZPttHLq"
      },
      "execution_count": 24,
      "outputs": []
    },
    {
      "cell_type": "code",
      "source": [
        "print(model.linear.weight.shape, model.linear.bias.shape)"
      ],
      "metadata": {
        "colab": {
          "base_uri": "https://localhost:8080/"
        },
        "id": "PM8hjcwrxLH3",
        "outputId": "4c79f49d-4780-4c1a-a2cf-c6a7c32a694b"
      },
      "execution_count": 25,
      "outputs": [
        {
          "output_type": "stream",
          "name": "stdout",
          "text": [
            "torch.Size([10, 784]) torch.Size([10])\n"
          ]
        }
      ]
    },
    {
      "cell_type": "code",
      "source": [
        "list(model.parameters())"
      ],
      "metadata": {
        "colab": {
          "base_uri": "https://localhost:8080/"
        },
        "id": "qtJLJIwuxZti",
        "outputId": "f55996e8-17c6-4048-c388-79d8fc4f8521"
      },
      "execution_count": 26,
      "outputs": [
        {
          "output_type": "execute_result",
          "data": {
            "text/plain": [
              "[Parameter containing:\n",
              " tensor([[ 0.0292,  0.0353, -0.0331,  ..., -0.0099,  0.0264,  0.0038],\n",
              "         [ 0.0104,  0.0284, -0.0337,  ..., -0.0253,  0.0132,  0.0031],\n",
              "         [ 0.0233, -0.0005, -0.0088,  ...,  0.0137, -0.0165,  0.0156],\n",
              "         ...,\n",
              "         [ 0.0251, -0.0010,  0.0095,  ..., -0.0010, -0.0110,  0.0008],\n",
              "         [ 0.0350, -0.0336, -0.0016,  ..., -0.0003, -0.0196, -0.0349],\n",
              "         [-0.0238,  0.0201, -0.0231,  ...,  0.0205,  0.0054,  0.0349]],\n",
              "        requires_grad=True),\n",
              " Parameter containing:\n",
              " tensor([-0.0345,  0.0010, -0.0119,  0.0045, -0.0152, -0.0184, -0.0069, -0.0105,\n",
              "          0.0138,  0.0057], requires_grad=True)]"
            ]
          },
          "metadata": {},
          "execution_count": 26
        }
      ]
    },
    {
      "cell_type": "code",
      "source": [
        "for images, labels in train_loader:\n",
        "  print('images.shape:', images.shape)\n",
        "  outputs = model(images)\n",
        "  break\n",
        "\n",
        "print('outputs.shape:', outputs.shape)\n",
        "print('sample outputs:\\n',outputs[:2].data)"
      ],
      "metadata": {
        "colab": {
          "base_uri": "https://localhost:8080/"
        },
        "id": "w2VKgnatxeeO",
        "outputId": "fd2029e8-412e-4a06-be04-595c9517a168"
      },
      "execution_count": 27,
      "outputs": [
        {
          "output_type": "stream",
          "name": "stdout",
          "text": [
            "images.shape: torch.Size([128, 1, 28, 28])\n",
            "outputs.shape: torch.Size([128, 10])\n",
            "sample outputs:\n",
            " tensor([[-0.1572, -0.0351, -0.2238, -0.1825,  0.0415, -0.1195,  0.0927, -0.2180,\n",
            "          0.0744,  0.1705],\n",
            "        [-0.1263, -0.2617,  0.0170,  0.1748, -0.2277,  0.1145, -0.2082,  0.1000,\n",
            "         -0.3070,  0.1271]])\n"
          ]
        }
      ]
    },
    {
      "cell_type": "code",
      "source": [
        "outputs[0]"
      ],
      "metadata": {
        "colab": {
          "base_uri": "https://localhost:8080/"
        },
        "id": "2gIQn79LBxw8",
        "outputId": "710e7941-e60a-4176-a57b-b6438f71ebc0"
      },
      "execution_count": 28,
      "outputs": [
        {
          "output_type": "execute_result",
          "data": {
            "text/plain": [
              "tensor([-0.1572, -0.0351, -0.2238, -0.1825,  0.0415, -0.1195,  0.0927, -0.2180,\n",
              "         0.0744,  0.1705], grad_fn=<SelectBackward0>)"
            ]
          },
          "metadata": {},
          "execution_count": 28
        }
      ]
    },
    {
      "cell_type": "code",
      "source": [
        "exps = torch.exp(outputs[0])\n",
        "exps"
      ],
      "metadata": {
        "colab": {
          "base_uri": "https://localhost:8080/"
        },
        "id": "uX_3zOxJB8Ni",
        "outputId": "f7d6d3bc-8ccc-409d-dbae-0a0e78c4fef3"
      },
      "execution_count": 29,
      "outputs": [
        {
          "output_type": "execute_result",
          "data": {
            "text/plain": [
              "tensor([0.8545, 0.9655, 0.7995, 0.8332, 1.0423, 0.8873, 1.0972, 0.8041, 1.0773,\n",
              "        1.1859], grad_fn=<ExpBackward0>)"
            ]
          },
          "metadata": {},
          "execution_count": 29
        }
      ]
    },
    {
      "cell_type": "markdown",
      "source": [
        "# SoftMax"
      ],
      "metadata": {
        "id": "LAnKfnHC5SmV"
      }
    },
    {
      "cell_type": "code",
      "source": [
        "# changing each output between 0 to 1, add up to 1.\n",
        "\n",
        "probs = exps/torch.sum(exps)\n",
        "probs"
      ],
      "metadata": {
        "colab": {
          "base_uri": "https://localhost:8080/"
        },
        "id": "CWGDmmse5SJn",
        "outputId": "a3ebde23-a2fd-4e10-f83e-2f3c1ae1be49"
      },
      "execution_count": 30,
      "outputs": [
        {
          "output_type": "execute_result",
          "data": {
            "text/plain": [
              "tensor([0.0895, 0.1011, 0.0837, 0.0873, 0.1092, 0.0929, 0.1149, 0.0842, 0.1128,\n",
              "        0.1242], grad_fn=<DivBackward0>)"
            ]
          },
          "metadata": {},
          "execution_count": 30
        }
      ]
    },
    {
      "cell_type": "code",
      "source": [
        "torch.sum(probs)"
      ],
      "metadata": {
        "colab": {
          "base_uri": "https://localhost:8080/"
        },
        "id": "oWmpumPVCsjr",
        "outputId": "abf22720-f03e-4594-d851-f6cf92719a77"
      },
      "execution_count": 31,
      "outputs": [
        {
          "output_type": "execute_result",
          "data": {
            "text/plain": [
              "tensor(1., grad_fn=<SumBackward0>)"
            ]
          },
          "metadata": {},
          "execution_count": 31
        }
      ]
    },
    {
      "cell_type": "code",
      "source": [
        "import torch.nn.functional as F\n",
        "\n",
        "#apply softmax for each output row\n",
        "probs = F.softmax(outputs, dim=1)\n",
        "\n",
        "#look at sample probabilities\n",
        "print('Sample probabilities:\\n', probs[:2].data)\n",
        "\n",
        "#add up the probabilities of an output row\n",
        "print('sum:', torch.sum(probs[0]).item())"
      ],
      "metadata": {
        "colab": {
          "base_uri": "https://localhost:8080/"
        },
        "id": "Ecr3CSokDeN9",
        "outputId": "a315129b-5961-45b3-9722-4bc2e50484ff"
      },
      "execution_count": 32,
      "outputs": [
        {
          "output_type": "stream",
          "name": "stdout",
          "text": [
            "Sample probabilities:\n",
            " tensor([[0.0895, 0.1011, 0.0837, 0.0873, 0.1092, 0.0929, 0.1149, 0.0842, 0.1128,\n",
            "         0.1242],\n",
            "        [0.0921, 0.0805, 0.1063, 0.1245, 0.0833, 0.1172, 0.0849, 0.1155, 0.0769,\n",
            "         0.1187]])\n",
            "sum: 1.0\n"
          ]
        }
      ]
    },
    {
      "cell_type": "code",
      "source": [
        "# Determine the predicted label for each image by simply choosing\n",
        "# the index of the element with the highest prob in each output row.\n",
        "\n",
        "max_probs, preds = torch.max(probs, dim=1)\n",
        "print(preds)\n",
        "print(max_probs)\n",
        "\n",
        "#Printed above are the predicted labels for the first batch of training images."
      ],
      "metadata": {
        "colab": {
          "base_uri": "https://localhost:8080/"
        },
        "id": "yv1oFhpEFB29",
        "outputId": "5009094d-713b-497f-c30e-ba4ff24c65ab"
      },
      "execution_count": 33,
      "outputs": [
        {
          "output_type": "stream",
          "name": "stdout",
          "text": [
            "tensor([9, 3, 6, 7, 3, 9, 7, 9, 7, 0, 9, 7, 3, 3, 9, 3, 9, 9, 4, 7, 9, 5, 6, 3,\n",
            "        6, 3, 9, 6, 9, 9, 3, 7, 3, 9, 3, 8, 9, 3, 4, 3, 9, 7, 6, 9, 9, 8, 3, 7,\n",
            "        7, 9, 4, 7, 7, 8, 4, 5, 9, 8, 8, 9, 6, 9, 8, 3, 4, 3, 5, 9, 9, 3, 8, 3,\n",
            "        6, 0, 6, 9, 8, 9, 3, 6, 8, 7, 6, 9, 1, 7, 9, 5, 8, 9, 9, 3, 9, 8, 7, 8,\n",
            "        3, 3, 8, 9, 0, 3, 7, 3, 8, 9, 7, 7, 6, 3, 9, 8, 8, 7, 9, 7, 3, 8, 3, 9,\n",
            "        7, 5, 9, 8, 3, 3, 9, 3])\n",
            "tensor([0.1242, 0.1245, 0.1193, 0.1111, 0.1170, 0.1262, 0.1343, 0.1197, 0.1297,\n",
            "        0.1219, 0.1318, 0.1144, 0.1348, 0.1307, 0.1319, 0.1204, 0.1362, 0.1281,\n",
            "        0.1248, 0.1256, 0.1368, 0.1298, 0.1223, 0.1472, 0.1434, 0.1234, 0.1345,\n",
            "        0.1335, 0.1265, 0.1278, 0.1284, 0.1349, 0.1462, 0.1282, 0.1409, 0.1175,\n",
            "        0.1298, 0.1219, 0.1279, 0.1340, 0.1360, 0.1274, 0.1316, 0.1365, 0.1388,\n",
            "        0.1184, 0.1295, 0.1309, 0.1457, 0.1705, 0.1122, 0.1489, 0.1266, 0.1135,\n",
            "        0.1206, 0.1253, 0.1222, 0.1328, 0.1170, 0.1337, 0.1230, 0.1595, 0.1213,\n",
            "        0.1294, 0.1339, 0.1277, 0.1372, 0.1259, 0.1177, 0.1182, 0.1422, 0.1571,\n",
            "        0.1218, 0.1159, 0.1353, 0.1382, 0.1328, 0.1316, 0.1146, 0.1241, 0.1337,\n",
            "        0.1206, 0.1135, 0.1178, 0.1169, 0.1248, 0.1345, 0.1229, 0.1269, 0.1274,\n",
            "        0.1408, 0.1337, 0.1300, 0.1289, 0.1493, 0.1284, 0.1234, 0.1279, 0.1218,\n",
            "        0.1239, 0.1318, 0.1370, 0.1184, 0.1211, 0.1069, 0.1341, 0.1315, 0.1210,\n",
            "        0.1192, 0.1330, 0.1591, 0.1268, 0.1217, 0.1256, 0.1293, 0.1290, 0.1357,\n",
            "        0.1192, 0.1262, 0.1473, 0.1375, 0.1360, 0.1186, 0.1328, 0.1279, 0.1309,\n",
            "        0.1327, 0.1515], grad_fn=<MaxBackward0>)\n"
          ]
        }
      ]
    },
    {
      "cell_type": "markdown",
      "source": [
        "# Evaluation Metric and Loss Function"
      ],
      "metadata": {
        "id": "0Qqpe3DjGTS5"
      }
    },
    {
      "cell_type": "markdown",
      "source": [
        "## Accuracy Metric"
      ],
      "metadata": {
        "id": "15nmB4IhiT3d"
      }
    },
    {
      "cell_type": "code",
      "source": [
        "# how well our medel is performing, % of labels that were correctly predicted.\n",
        "# accuracy is non-continuous , nondifferentiable.\n",
        "\n",
        "def accuracy(outputs, labels):\n",
        "  _, preds = torch.max(outputs, dim=1)\n",
        "  return torch.tensor(torch.sum(preds==labels).item()/len(preds))\n",
        "\n",
        "# == performs an element-wise comparison of two tensors with the same shape\n",
        "# and returns a tensor of the same shape,\n",
        "# containing 0's for unequal elements,and 1s for equal elements. and then passing\n",
        "# the result to torch.sum which returns sum of correctly predicted labels. finally\n",
        "# divide by tota number of images/samples to get accuracy.\n",
        "\n"
      ],
      "metadata": {
        "id": "9NR24-hKGOAa"
      },
      "execution_count": 36,
      "outputs": []
    },
    {
      "cell_type": "code",
      "source": [
        "accuracy(outputs,labels)"
      ],
      "metadata": {
        "colab": {
          "base_uri": "https://localhost:8080/"
        },
        "id": "TlWJugZ5h2ok",
        "outputId": "a893f92a-2b5d-48d6-cb99-0b48a9cc4c78"
      },
      "execution_count": 37,
      "outputs": [
        {
          "output_type": "execute_result",
          "data": {
            "text/plain": [
              "tensor(0.0547)"
            ]
          },
          "metadata": {},
          "execution_count": 37
        }
      ]
    },
    {
      "cell_type": "markdown",
      "source": [
        "## Loss Function"
      ],
      "metadata": {
        "id": "QlqsxIvsiQP3"
      }
    },
    {
      "cell_type": "code",
      "source": [
        "# cross entropy is differentiable and continuous.\n",
        "loss_fn = F.cross_entropy\n"
      ],
      "metadata": {
        "id": "XjgWUzgGLOCx"
      },
      "execution_count": 38,
      "outputs": []
    },
    {
      "cell_type": "code",
      "source": [
        "# loss for current batch of data\n",
        "loss = loss_fn(outputs,labels)\n",
        "print(loss)"
      ],
      "metadata": {
        "colab": {
          "base_uri": "https://localhost:8080/"
        },
        "id": "Oiyeb6ZPk_y-",
        "outputId": "6d523576-4ef4-440e-a3ae-fb77b3980e88"
      },
      "execution_count": 39,
      "outputs": [
        {
          "output_type": "stream",
          "name": "stdout",
          "text": [
            "tensor(2.3583, grad_fn=<NllLossBackward0>)\n"
          ]
        }
      ]
    },
    {
      "cell_type": "code",
      "source": [
        "# interpret 2.23 loss?\n",
        "pow = loss.clone().detach()\n",
        "torch.exp(-pow)\n",
        "# predicted prob. of the correct label, on average.\n",
        "#lower losss, better the model."
      ],
      "metadata": {
        "colab": {
          "base_uri": "https://localhost:8080/"
        },
        "id": "3ngLLZdUlte8",
        "outputId": "8ffc4aa7-daca-4cb1-8f03-8bafaecf4267"
      },
      "execution_count": 45,
      "outputs": [
        {
          "output_type": "execute_result",
          "data": {
            "text/plain": [
              "tensor(0.0946)"
            ]
          },
          "metadata": {},
          "execution_count": 45
        }
      ]
    },
    {
      "cell_type": "code",
      "source": [],
      "metadata": {
        "id": "cIcupWlHmxYV"
      },
      "execution_count": null,
      "outputs": []
    },
    {
      "cell_type": "markdown",
      "source": [
        "# Training the Model"
      ],
      "metadata": {
        "id": "cwZGUZc3m_Y_"
      }
    },
    {
      "cell_type": "code",
      "source": [
        "class MnistModel(nn.Module):\n",
        "  def __init__(self):\n",
        "    super().__init__()\n",
        "    self.linear = nn.Linear(input_size,num_classes)\n",
        "\n",
        "  def forward(self,xb):\n",
        "    xb = xb.reshape(-1, 784)\n",
        "    out = self.linear(xb)\n",
        "    return out\n",
        "\n",
        "  def training_step(self, batch):\n",
        "    images,labels = batch\n",
        "    out = self(images) # generate predictions\n",
        "    loss = F.cross_entropy(out,labels)\n",
        "    return loss\n",
        "\n",
        "  def validation_step(self,batch):\n",
        "    images, labels = batch\n",
        "    out = self(images)\n",
        "    loss = F.cross_entropy(out,labels)\n",
        "    acc = accuracy(out,labels)\n",
        "    return {'val_loss':loss,'val_acc':acc}\n",
        "\n",
        "  def validation_epoch_end(self,outputs):\n",
        "    batch_losses = [x['val_loss'] for x in outputs]\n",
        "    epoch_loss = torch.stack(batch_losses).mean() # combine losses\n",
        "    batch_accs = [x['val_acc'] for x in outputs]\n",
        "    epoch_acc = torch.stack(batch_accs).mean() # combine accuracies\n",
        "    return {'val_loss':epoch_loss.item(),'val_acc':epoch_acc.item()}\n",
        "\n",
        "  def epoch_end(self,epoch,result):\n",
        "    print('Epoch [{}], val_loss:{:.4f},val_acc:{:.4f}'.format(epoch,result['val_loss'],result['val_acc']))\n",
        "\n",
        "model = MnistModel()\n",
        "\n",
        "# Next, two function (evaluate&fit)) for validation phase , and training phase"
      ],
      "metadata": {
        "id": "sRR1wxYVn0Kk"
      },
      "execution_count": 46,
      "outputs": []
    },
    {
      "cell_type": "code",
      "source": [
        "def evaluate(model, val_loader):\n",
        "  outputs = [model.validation_step(batch) for batch in val_loader]\n",
        "  return model.validation_epoch_end(outputs)"
      ],
      "metadata": {
        "id": "E3SK7Jcwwdxl"
      },
      "execution_count": 47,
      "outputs": []
    },
    {
      "cell_type": "code",
      "source": [
        "def fit(epochs, lr, model, train_loader, val_loader, opt_func=torch.optim.SGD):\n",
        "  history = []\n",
        "  optimizer = opt_func(model.parameters(),lr)\n",
        "  for epoch in range(epochs):\n",
        "    # Training phase\n",
        "    for batch in train_loader:\n",
        "      loss = model.training_step(batch)\n",
        "      loss.backward()\n",
        "      optimizer.step()\n",
        "      optimizer.zero_grad()\n",
        "    #Validation phase\n",
        "    result = evaluate(model,val_loader)\n",
        "    model.epoch_end(epoch,result)\n",
        "    history.append(result)\n",
        "  return history\n",
        ""
      ],
      "metadata": {
        "id": "72HKDqNJw1LG"
      },
      "execution_count": 48,
      "outputs": []
    },
    {
      "cell_type": "markdown",
      "source": [
        "## Trainig & Validation Results"
      ],
      "metadata": {
        "id": "gVo5TaE50xoQ"
      }
    },
    {
      "cell_type": "code",
      "source": [
        "restult0 = evaluate(model,val_loader)\n",
        "restult0\n",
        "# initial accuracy."
      ],
      "metadata": {
        "colab": {
          "base_uri": "https://localhost:8080/"
        },
        "id": "6ogT2MKdyutq",
        "outputId": "e3e3a356-c2c5-450b-cf32-f0e58ae98502"
      },
      "execution_count": 49,
      "outputs": [
        {
          "output_type": "execute_result",
          "data": {
            "text/plain": [
              "{'val_loss': 2.300631046295166, 'val_acc': 0.09355221688747406}"
            ]
          },
          "metadata": {},
          "execution_count": 49
        }
      ]
    },
    {
      "cell_type": "code",
      "source": [
        "# train for 5 epochs\n",
        "\n",
        "history1 = fit(5, 0.001, model, train_loader,val_loader)"
      ],
      "metadata": {
        "colab": {
          "base_uri": "https://localhost:8080/"
        },
        "id": "3X6am6DdzIzy",
        "outputId": "30054ef7-6e5d-4f57-e4c5-2454507d692f"
      },
      "execution_count": 50,
      "outputs": [
        {
          "output_type": "stream",
          "name": "stdout",
          "text": [
            "Epoch [0], val_loss:1.9348,val_acc:0.6391\n",
            "Epoch [1], val_loss:1.6662,val_acc:0.7464\n",
            "Epoch [2], val_loss:1.4654,val_acc:0.7839\n",
            "Epoch [3], val_loss:1.3135,val_acc:0.8019\n",
            "Epoch [4], val_loss:1.1967,val_acc:0.8152\n"
          ]
        }
      ]
    },
    {
      "cell_type": "code",
      "source": [
        "history2 = fit(5,0.001, model, train_loader, val_loader)"
      ],
      "metadata": {
        "colab": {
          "base_uri": "https://localhost:8080/"
        },
        "id": "f72Sn_DIzhUw",
        "outputId": "47bf388e-5264-41ee-bf8a-c22e38077c82"
      },
      "execution_count": 52,
      "outputs": [
        {
          "output_type": "stream",
          "name": "stdout",
          "text": [
            "Epoch [0], val_loss:1.1050,val_acc:0.8238\n",
            "Epoch [1], val_loss:1.0314,val_acc:0.8304\n",
            "Epoch [2], val_loss:0.9712,val_acc:0.8362\n",
            "Epoch [3], val_loss:0.9211,val_acc:0.8405\n",
            "Epoch [4], val_loss:0.8788,val_acc:0.8443\n"
          ]
        }
      ]
    },
    {
      "cell_type": "code",
      "source": [
        "history3 = fit(5,0.001, model, train_loader, val_loader)"
      ],
      "metadata": {
        "colab": {
          "base_uri": "https://localhost:8080/"
        },
        "id": "ZbwAnVj5z5Oe",
        "outputId": "83c26589-9c23-431c-adac-ada1d2a6a24a"
      },
      "execution_count": 53,
      "outputs": [
        {
          "output_type": "stream",
          "name": "stdout",
          "text": [
            "Epoch [0], val_loss:0.8425,val_acc:0.8470\n",
            "Epoch [1], val_loss:0.8111,val_acc:0.8488\n",
            "Epoch [2], val_loss:0.7836,val_acc:0.8515\n",
            "Epoch [3], val_loss:0.7593,val_acc:0.8535\n",
            "Epoch [4], val_loss:0.7377,val_acc:0.8561\n"
          ]
        }
      ]
    },
    {
      "cell_type": "code",
      "source": [
        "history4 = fit(5,0.001, model, train_loader, val_loader)"
      ],
      "metadata": {
        "colab": {
          "base_uri": "https://localhost:8080/"
        },
        "id": "3hI1ABh7z6ml",
        "outputId": "5cbb1635-1f0b-40d8-b0bd-7d0a0f3fe0f6"
      },
      "execution_count": 54,
      "outputs": [
        {
          "output_type": "stream",
          "name": "stdout",
          "text": [
            "Epoch [0], val_loss:0.7183,val_acc:0.8577\n",
            "Epoch [1], val_loss:0.7008,val_acc:0.8597\n",
            "Epoch [2], val_loss:0.6849,val_acc:0.8614\n",
            "Epoch [3], val_loss:0.6705,val_acc:0.8632\n",
            "Epoch [4], val_loss:0.6572,val_acc:0.8651\n"
          ]
        }
      ]
    },
    {
      "cell_type": "markdown",
      "source": [
        "## Plotting"
      ],
      "metadata": {
        "id": "E0qpo8Vz0liw"
      }
    },
    {
      "cell_type": "code",
      "source": [
        "# Replace these values with your results\n",
        "history = [restult0]+history1 # +history2+history3+history4\n",
        "accuracies = [result['val_acc'] for result in history]\n",
        "plt.plot(accuracies, '-x')\n",
        "plt.xlabel('epoch')\n",
        "plt.ylabel('accuracy')\n",
        "plt.title('Accuracy vs. No. of epochs')"
      ],
      "metadata": {
        "colab": {
          "base_uri": "https://localhost:8080/",
          "height": 490
        },
        "id": "BrQK6ATA0e-6",
        "outputId": "cdb07bd0-7ba1-482c-ad86-c8ea9d968ab7"
      },
      "execution_count": 57,
      "outputs": [
        {
          "output_type": "execute_result",
          "data": {
            "text/plain": [
              "Text(0.5, 1.0, 'Accuracy vs. No. of epochs')"
            ]
          },
          "metadata": {},
          "execution_count": 57
        },
        {
          "output_type": "display_data",
          "data": {
            "text/plain": [
              "<Figure size 640x480 with 1 Axes>"
            ],
            "image/png": "[encoded data removed]"
          },
          "metadata": {}
        }
      ]
    },
    {
      "cell_type": "markdown",
      "source": [
        "# Testing with Individual Images"
      ],
      "metadata": {
        "id": "iRi69i1G2GQU"
      }
    },
    {
      "cell_type": "code",
      "source": [
        "# Define test dataset\n",
        "test_dataset = MNIST(root='data/',\n",
        "                     train=False,\n",
        "                     transform=transforms.ToTensor())"
      ],
      "metadata": {
        "id": "CxXKzKBQ2DbJ"
      },
      "execution_count": 58,
      "outputs": []
    },
    {
      "cell_type": "code",
      "source": [
        "img, label = test_dataset[0]\n",
        "plt.imshow(img[0],cmap = 'gray')\n",
        "print('shape:',img.shape)\n",
        "print('label:',label)"
      ],
      "metadata": {
        "id": "2fFnfwzjBGtZ",
        "outputId": "6e86d9e4-5e98-48b1-fcc5-472cd141080e",
        "colab": {
          "base_uri": "https://localhost:8080/",
          "height": 467
        }
      },
      "execution_count": 59,
      "outputs": [
        {
          "output_type": "stream",
          "name": "stdout",
          "text": [
            "shape: torch.Size([1, 28, 28])\n",
            "label: 7\n"
          ]
        },
        {
          "output_type": "display_data",
          "data": {
            "text/plain": [
              "<Figure size 640x480 with 1 Axes>"
            ],
            "image/png": "[encoded data removed]"
          },
          "metadata": {}
        }
      ]
    },
    {
      "cell_type": "code",
      "source": [
        "img.unsqueeze(0).shape"
      ],
      "metadata": {
        "id": "XPC6mstUBr7f",
        "outputId": "18d7be11-ca03-4b7d-c9e7-b88e46324f91",
        "colab": {
          "base_uri": "https://localhost:8080/"
        }
      },
      "execution_count": 60,
      "outputs": [
        {
          "output_type": "execute_result",
          "data": {
            "text/plain": [
              "torch.Size([1, 1, 28, 28])"
            ]
          },
          "metadata": {},
          "execution_count": 60
        }
      ]
    },
    {
      "cell_type": "code",
      "source": [
        "# Predicting a new image (test image)\n",
        "\n",
        "def predict_image(img,model):\n",
        "  xb = img.unsqueeze(0)\n",
        "  yb = model(xb)\n",
        "  _,preds = torch.max(yb,dim=1)\n",
        "  return preds[0].item()\n",
        "\n",
        "#img.unsqueeze simply adds another dimension at the beginning of 1x28x28 tensor\n",
        "#, making it 1x1x28x28 tensor, which the model views as a batch containing a single image.\n"
      ],
      "metadata": {
        "id": "h03AIyhwBzD1"
      },
      "execution_count": 61,
      "outputs": []
    },
    {
      "cell_type": "code",
      "source": [
        "img, label = test_dataset[0]\n",
        "plt.imshow(img[0],cmap = 'gray')\n",
        "\n",
        "print('Label:',label,'Predicted:',predict_image(img,model))"
      ],
      "metadata": {
        "id": "jYMIDvcICrJy",
        "outputId": "0a4eac99-dde0-4d72-e929-d7f4bf0b69fb",
        "colab": {
          "base_uri": "https://localhost:8080/",
          "height": 448
        }
      },
      "execution_count": 62,
      "outputs": [
        {
          "output_type": "stream",
          "name": "stdout",
          "text": [
            "Label: 7 Predicted: 7\n"
          ]
        },
        {
          "output_type": "display_data",
          "data": {
            "text/plain": [
              "<Figure size 640x480 with 1 Axes>"
            ],
            "image/png": "[encoded data removed]"
          },
          "metadata": {}
        }
      ]
    },
    {
      "cell_type": "code",
      "source": [
        "img, label = test_dataset[10]\n",
        "plt.imshow(img[0],cmap = 'gray')\n",
        "\n",
        "print('Label:',label,'Predicted:',predict_image(img,model))"
      ],
      "metadata": {
        "id": "1ziUJDNpDLOw",
        "outputId": "2a12b516-2743-4688-e731-855465e159db",
        "colab": {
          "base_uri": "https://localhost:8080/",
          "height": 448
        }
      },
      "execution_count": 63,
      "outputs": [
        {
          "output_type": "stream",
          "name": "stdout",
          "text": [
            "Label: 0 Predicted: 0\n"
          ]
        },
        {
          "output_type": "display_data",
          "data": {
            "text/plain": [
              "<Figure size 640x480 with 1 Axes>"
            ],
            "image/png": "[encoded data removed]"
          },
          "metadata": {}
        }
      ]
    },
    {
      "cell_type": "code",
      "source": [
        "img, label = test_dataset[193]\n",
        "plt.imshow(img[0],cmap = 'gray')\n",
        "\n",
        "print('Label:',label,'Predicted:',predict_image(img,model))"
      ],
      "metadata": {
        "id": "uLaUAwNQDWUp",
        "outputId": "7dd86df0-856b-4289-e36a-2e98b3d671e1",
        "colab": {
          "base_uri": "https://localhost:8080/",
          "height": 448
        }
      },
      "execution_count": 64,
      "outputs": [
        {
          "output_type": "stream",
          "name": "stdout",
          "text": [
            "Label: 9 Predicted: 4\n"
          ]
        },
        {
          "output_type": "display_data",
          "data": {
            "text/plain": [
              "<Figure size 640x480 with 1 Axes>"
            ],
            "image/png": "[encoded data removed]"
          },
          "metadata": {}
        }
      ]
    },
    {
      "cell_type": "code",
      "source": [
        "img, label = test_dataset[1839]\n",
        "plt.imshow(img[0],cmap = 'gray')\n",
        "\n",
        "print('Label:',label,'Predicted:',predict_image(img,model))"
      ],
      "metadata": {
        "id": "hi2QmSkuDZz-",
        "outputId": "6b47c03e-c356-4507-e8f3-cbb5aa279c81",
        "colab": {
          "base_uri": "https://localhost:8080/",
          "height": 448
        }
      },
      "execution_count": 65,
      "outputs": [
        {
          "output_type": "stream",
          "name": "stdout",
          "text": [
            "Label: 2 Predicted: 8\n"
          ]
        },
        {
          "output_type": "display_data",
          "data": {
            "text/plain": [
              "<Figure size 640x480 with 1 Axes>"
            ],
            "image/png": "[encoded data removed]"
          },
          "metadata": {}
        }
      ]
    },
    {
      "cell_type": "markdown",
      "source": [
        "## Identifying Where Our Model Performs Poorly"
      ],
      "metadata": {
        "id": "ENDHQqepDoU-"
      }
    },
    {
      "cell_type": "code",
      "source": [
        "# collecting more training data,\n",
        "# increasing/decreasing the model complexity,\n",
        "# Changing the hyperparameters"
      ],
      "metadata": {
        "id": "MCEGVoadD192"
      },
      "execution_count": 66,
      "outputs": []
    },
    {
      "cell_type": "markdown",
      "source": [
        "## Check **overall accuarcy** of the model on the **testset**."
      ],
      "metadata": {
        "id": "ZOZQ07DVEmO4"
      }
    },
    {
      "cell_type": "code",
      "source": [
        "# this loss/accuracy should be similar with validation loss/accuracy.\n",
        "# ifnot, we might need a better validation set that has similar data & distribution\n",
        "# as the test set which often comes from real world data.\n",
        "test_loader = DataLoader(test_dataset, batch_size=256)\n",
        "result = evaluate(model,test_loader)\n",
        "result"
      ],
      "metadata": {
        "id": "ELo1iJHAEi3m",
        "outputId": "e4cb8523-3ac7-4ab9-e787-f5286a7d5b29",
        "colab": {
          "base_uri": "https://localhost:8080/"
        }
      },
      "execution_count": 68,
      "outputs": [
        {
          "output_type": "execute_result",
          "data": {
            "text/plain": [
              "{'val_loss': 0.6401945352554321, 'val_acc': 0.861523449420929}"
            ]
          },
          "metadata": {},
          "execution_count": 68
        }
      ]
    },
    {
      "cell_type": "markdown",
      "source": [
        "# Saving and Loading the Model"
      ],
      "metadata": {
        "id": "AogmU5IrGct1"
      }
    },
    {
      "cell_type": "code",
      "source": [
        "torch.save(model.state_dict(),'mnist-logistic.pth')\n",
        "# .state_dict method returns an OrderedDict containing all the weights and bias matrices to the disk,\n",
        "# mapped to the right attributes of the model."
      ],
      "metadata": {
        "id": "vvQf31q0Ftm1"
      },
      "execution_count": 69,
      "outputs": []
    },
    {
      "cell_type": "code",
      "source": [
        "model.state_dict()"
      ],
      "metadata": {
        "id": "5YdSWDWcHh43",
        "outputId": "ccb03c25-b998-4d74-d684-b6d76859bb20",
        "colab": {
          "base_uri": "https://localhost:8080/"
        }
      },
      "execution_count": 70,
      "outputs": [
        {
          "output_type": "execute_result",
          "data": {
            "text/plain": [
              "OrderedDict([('linear.weight',\n",
              "              tensor([[-0.0015,  0.0026, -0.0269,  ..., -0.0275, -0.0095,  0.0063],\n",
              "                      [ 0.0278, -0.0252, -0.0281,  ..., -0.0209, -0.0004,  0.0196],\n",
              "                      [ 0.0282, -0.0323,  0.0316,  ...,  0.0284, -0.0256, -0.0071],\n",
              "                      ...,\n",
              "                      [-0.0306,  0.0117, -0.0175,  ...,  0.0325,  0.0316, -0.0208],\n",
              "                      [-0.0311, -0.0151,  0.0277,  ...,  0.0077,  0.0175,  0.0217],\n",
              "                      [ 0.0018,  0.0018,  0.0021,  ...,  0.0309,  0.0124,  0.0281]])),\n",
              "             ('linear.bias',\n",
              "              tensor([-0.0142,  0.0687, -0.0320, -0.0115,  0.0101,  0.0203, -0.0009,  0.0698,\n",
              "                      -0.0913,  0.0069]))])"
            ]
          },
          "metadata": {},
          "execution_count": 70
        }
      ]
    },
    {
      "cell_type": "markdown",
      "source": [
        "## Loading Model Weights"
      ],
      "metadata": {
        "id": "thRnYhbuHvm-"
      }
    },
    {
      "cell_type": "code",
      "source": [
        "model2 = MnistModel()\n",
        "model2.load_state_dict(torch.load('mnist-logistic.pth'))"
      ],
      "metadata": {
        "id": "pueSxdlyH1_F",
        "outputId": "84df2cb9-8e53-4090-e29f-f35db30c2026",
        "colab": {
          "base_uri": "https://localhost:8080/"
        }
      },
      "execution_count": 71,
      "outputs": [
        {
          "output_type": "execute_result",
          "data": {
            "text/plain": [
              "<All keys matched successfully>"
            ]
          },
          "metadata": {},
          "execution_count": 71
        }
      ]
    },
    {
      "cell_type": "markdown",
      "source": [
        "## Sanity Check"
      ],
      "metadata": {
        "id": "dJWW9S-WIRoa"
      }
    },
    {
      "cell_type": "code",
      "source": [
        "# This model has to have the same loss and accuracy on the test set as before.\n",
        "test_loader = DataLoader(test_dataset,batch_size=256)\n",
        "result = evaluate(model2,test_loader)\n",
        "result"
      ],
      "metadata": {
        "id": "sBjdAiyiIUFq",
        "outputId": "08b9dad6-8b37-4abd-ec09-2f56a809c91d",
        "colab": {
          "base_uri": "https://localhost:8080/"
        }
      },
      "execution_count": 72,
      "outputs": [
        {
          "output_type": "execute_result",
          "data": {
            "text/plain": [
              "{'val_loss': 0.6401945352554321, 'val_acc': 0.861523449420929}"
            ]
          },
          "metadata": {},
          "execution_count": 72
        }
      ]
    }
  ]
}