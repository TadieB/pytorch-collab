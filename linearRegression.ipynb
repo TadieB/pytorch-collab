{
  "nbformat": 4,
  "nbformat_minor": 0,
  "metadata": {
    "colab": {
      "provenance": [],
      "authorship_tag": "ABX9TyOoidKr5bFTnFF27+eNuL1A",
      "include_colab_link": true
    },
    "kernelspec": {
      "name": "python3",
      "display_name": "Python 3"
    },
    "language_info": {
      "name": "python"
    }
  },
  "cells": [
    {
      "cell_type": "markdown",
      "metadata": {
        "id": "view-in-github",
        "colab_type": "text"
      },
      "source": [
        "<a href=\"https://colab.research.google.com/github/TadieB/pytorch-collab/blob/main/linearRegression.ipynb\" target=\"_parent\"><img src=\"https://colab.research.google.com/assets/colab-badge.svg\" alt=\"Open In Colab\"/></a>"
      ]
    },
    {
      "cell_type": "markdown",
      "source": [
        "# Linear Regression"
      ],
      "metadata": {
        "id": "HeScBgRAMBfA"
      }
    },
    {
      "cell_type": "code",
      "execution_count": 16,
      "metadata": {
        "id": "SXAwfYBSLsfw"
      },
      "outputs": [],
      "source": [
        "import numpy as np\n",
        "import torch\n"
      ]
    },
    {
      "cell_type": "markdown",
      "source": [
        "# Training Data"
      ],
      "metadata": {
        "id": "JLPI7LFyMa7j"
      }
    },
    {
      "cell_type": "code",
      "source": [
        "# Input (temp, rainfall, humidity)\n",
        "inputs = np.array([[73, 67, 43],\n",
        "                   [91,88,64],\n",
        "                   [87, 134, 58],\n",
        "                   [102,43,37],\n",
        "                   [69,96,70]],dtype='float32'\n",
        ")"
      ],
      "metadata": {
        "id": "Yj-dN_U1MFXR"
      },
      "execution_count": 13,
      "outputs": []
    },
    {
      "cell_type": "code",
      "source": [
        "# Targets (apples, oranges)\n",
        "targets = np.array([[56,70],\n",
        "                    [81,101],\n",
        "                    [119,133],\n",
        "                    [22,37],\n",
        "                    [103,119]],dtype='float32')"
      ],
      "metadata": {
        "id": "ZCvZpRX7NRNo"
      },
      "execution_count": 7,
      "outputs": []
    },
    {
      "cell_type": "markdown",
      "source": [
        "# Model"
      ],
      "metadata": {
        "id": "jIsY0uKsOS3E"
      }
    },
    {
      "cell_type": "code",
      "source": [
        "# Weights and biases\n",
        "w = torch.randn(2,3, requires_grad=True)\n",
        "b = torch.randn(2,requires_grad=True)\n",
        "print(w)\n",
        "print(b)"
      ],
      "metadata": {
        "colab": {
          "base_uri": "https://localhost:8080/"
        },
        "id": "NtNV_5XWOSD3",
        "outputId": "c1f96018-c27c-44fd-df7c-8042cb64eaf8"
      },
      "execution_count": 8,
      "outputs": [
        {
          "output_type": "stream",
          "name": "stdout",
          "text": [
            "tensor([[ 1.3537, -0.6997,  0.2358],\n",
            "        [ 0.6098, -0.3540,  0.1082]], requires_grad=True)\n",
            "tensor([ 0.8047, -1.6870], requires_grad=True)\n"
          ]
        }
      ]
    },
    {
      "cell_type": "code",
      "source": [
        "def model(x):\n",
        "  return x @ w.t()+b\n",
        "\n",
        "# @ represents matrix multiplication in pyTorch, .t is the transpose of a tensor"
      ],
      "metadata": {
        "id": "juCVs2BZPBAv"
      },
      "execution_count": 14,
      "outputs": []
    },
    {
      "cell_type": "markdown",
      "source": [
        "# Predictions"
      ],
      "metadata": {
        "id": "7Npb-9NIQETx"
      }
    },
    {
      "cell_type": "code",
      "source": [
        "# w and inputs should be the same type tensors or numpy arrays,\n",
        "inputs = torch.tensor(inputs, requires_grad=True)"
      ],
      "metadata": {
        "id": "EPaWWYJoSO0y"
      },
      "execution_count": 18,
      "outputs": []
    },
    {
      "cell_type": "code",
      "source": [
        "preds = model(inputs)\n",
        "print(preds)"
      ],
      "metadata": {
        "colab": {
          "base_uri": "https://localhost:8080/"
        },
        "id": "LFPxmlYCPuCp",
        "outputId": "74e554dc-7006-494f-dc9d-09f65cde3793"
      },
      "execution_count": 19,
      "outputs": [
        {
          "output_type": "stream",
          "name": "stdout",
          "text": [
            "tensor([[ 62.8825,  23.7625],\n",
            "        [ 77.5067,  29.5768],\n",
            "        [ 38.4912,  10.2064],\n",
            "        [117.5170,  49.2923],\n",
            "        [ 43.5430,  13.9789]], grad_fn=<AddBackward0>)\n"
          ]
        }
      ]
    }
  ]
}