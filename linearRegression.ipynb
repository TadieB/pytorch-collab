{
  "nbformat": 4,
  "nbformat_minor": 0,
  "metadata": {
    "colab": {
      "provenance": [],
      "authorship_tag": "ABX9TyOnxyzP1y7SjPXIV9IVuT8Z",
      "include_colab_link": true
    },
    "kernelspec": {
      "name": "python3",
      "display_name": "Python 3"
    },
    "language_info": {
      "name": "python"
    }
  },
  "cells": [
    {
      "cell_type": "markdown",
      "metadata": {
        "id": "view-in-github",
        "colab_type": "text"
      },
      "source": [
        "<a href=\"https://colab.research.google.com/github/TadieB/pytorch-collab/blob/main/linearRegression.ipynb\" target=\"_parent\"><img src=\"https://colab.research.google.com/assets/colab-badge.svg\" alt=\"Open In Colab\"/></a>"
      ]
    },
    {
      "cell_type": "markdown",
      "source": [
        "# Linear Regression"
      ],
      "metadata": {
        "id": "HeScBgRAMBfA"
      }
    },
    {
      "cell_type": "code",
      "execution_count": 16,
      "metadata": {
        "id": "SXAwfYBSLsfw"
      },
      "outputs": [],
      "source": [
        "import numpy as np\n",
        "import torch\n"
      ]
    },
    {
      "cell_type": "markdown",
      "source": [
        "# Training Data"
      ],
      "metadata": {
        "id": "JLPI7LFyMa7j"
      }
    },
    {
      "cell_type": "code",
      "source": [
        "# Input (temp, rainfall, humidity)\n",
        "inputs = np.array([[73, 67, 43],\n",
        "                   [91,88,64],\n",
        "                   [87, 134, 58],\n",
        "                   [102,43,37],\n",
        "                   [69,96,70]],dtype='float32'\n",
        ")"
      ],
      "metadata": {
        "id": "Yj-dN_U1MFXR"
      },
      "execution_count": 13,
      "outputs": []
    },
    {
      "cell_type": "code",
      "source": [
        "# Targets (apples, oranges)\n",
        "targets = np.array([[56,70],\n",
        "                    [81,101],\n",
        "                    [119,133],\n",
        "                    [22,37],\n",
        "                    [103,119]],dtype='float32')"
      ],
      "metadata": {
        "id": "ZCvZpRX7NRNo"
      },
      "execution_count": 7,
      "outputs": []
    },
    {
      "cell_type": "markdown",
      "source": [
        "# Model"
      ],
      "metadata": {
        "id": "jIsY0uKsOS3E"
      }
    },
    {
      "cell_type": "code",
      "source": [
        "# Weights and biases\n",
        "w = torch.randn(2,3, requires_grad=True)\n",
        "b = torch.randn(2,requires_grad=True)\n",
        "print(w)\n",
        "print(b)"
      ],
      "metadata": {
        "colab": {
          "base_uri": "https://localhost:8080/"
        },
        "id": "NtNV_5XWOSD3",
        "outputId": "c1f96018-c27c-44fd-df7c-8042cb64eaf8"
      },
      "execution_count": 8,
      "outputs": [
        {
          "output_type": "stream",
          "name": "stdout",
          "text": [
            "tensor([[ 1.3537, -0.6997,  0.2358],\n",
            "        [ 0.6098, -0.3540,  0.1082]], requires_grad=True)\n",
            "tensor([ 0.8047, -1.6870], requires_grad=True)\n"
          ]
        }
      ]
    },
    {
      "cell_type": "code",
      "source": [
        "def model(x):\n",
        "  return x @ w.t()+b\n",
        "\n",
        "# @ represents matrix multiplication in pyTorch, .t is the transpose of a tensor"
      ],
      "metadata": {
        "id": "juCVs2BZPBAv"
      },
      "execution_count": 14,
      "outputs": []
    },
    {
      "cell_type": "markdown",
      "source": [
        "# Predictions"
      ],
      "metadata": {
        "id": "7Npb-9NIQETx"
      }
    },
    {
      "cell_type": "code",
      "source": [
        "# w and inputs should be the same type tensors or numpy arrays,\n",
        "inputs = torch.tensor(inputs)"
      ],
      "metadata": {
        "colab": {
          "base_uri": "https://localhost:8080/"
        },
        "id": "EPaWWYJoSO0y",
        "outputId": "93d1679e-e33f-4153-91ea-bf36892bb6cd"
      },
      "execution_count": 23,
      "outputs": [
        {
          "output_type": "stream",
          "name": "stderr",
          "text": [
            "<ipython-input-23-76016b2a2be4>:2: UserWarning: To copy construct from a tensor, it is recommended to use sourceTensor.clone().detach() or sourceTensor.clone().detach().requires_grad_(True), rather than torch.tensor(sourceTensor).\n",
            "  inputs = torch.tensor(inputs)\n"
          ]
        }
      ]
    },
    {
      "cell_type": "code",
      "source": [
        "preds = model(inputs)\n",
        "print(preds)"
      ],
      "metadata": {
        "colab": {
          "base_uri": "https://localhost:8080/"
        },
        "id": "LFPxmlYCPuCp",
        "outputId": "95c0248d-83ac-4af1-86b5-40a726334034"
      },
      "execution_count": 25,
      "outputs": [
        {
          "output_type": "stream",
          "name": "stdout",
          "text": [
            "tensor([[ 62.8825,  23.7625],\n",
            "        [ 77.5067,  29.5768],\n",
            "        [ 38.4912,  10.2064],\n",
            "        [117.5170,  49.2923],\n",
            "        [ 43.5430,  13.9789]], grad_fn=<AddBackward0>)\n"
          ]
        }
      ]
    },
    {
      "cell_type": "code",
      "source": [
        "print(targets)\n",
        "#compare preds with targets"
      ],
      "metadata": {
        "colab": {
          "base_uri": "https://localhost:8080/"
        },
        "id": "qZDpX4JBSobQ",
        "outputId": "c6e6ece4-928e-4f94-ec57-2ad24717ddf0"
      },
      "execution_count": 26,
      "outputs": [
        {
          "output_type": "stream",
          "name": "stdout",
          "text": [
            "[[ 56.  70.]\n",
            " [ 81. 101.]\n",
            " [119. 133.]\n",
            " [ 22.  37.]\n",
            " [103. 119.]]\n"
          ]
        }
      ]
    },
    {
      "cell_type": "code",
      "source": [
        "targets = torch.tensor(targets)"
      ],
      "metadata": {
        "id": "pPagW03xTkPs"
      },
      "execution_count": 27,
      "outputs": []
    },
    {
      "cell_type": "markdown",
      "source": [
        "# Loss Function"
      ],
      "metadata": {
        "id": "etfn3BqQS2Pg"
      }
    },
    {
      "cell_type": "code",
      "source": [
        "def mse(t1,t2):\n",
        "  diff = t1-t2\n",
        "  return torch.sum(diff*diff)/diff.numel()"
      ],
      "metadata": {
        "id": "MWXYDq4DStCP"
      },
      "execution_count": 30,
      "outputs": []
    },
    {
      "cell_type": "code",
      "source": [
        "loss = mse(preds, targets)\n",
        "\n",
        "print(loss)"
      ],
      "metadata": {
        "colab": {
          "base_uri": "https://localhost:8080/"
        },
        "id": "urU1qCNKUwX7",
        "outputId": "9581ab3a-135a-41f5-a1db-26feaab92728"
      },
      "execution_count": 31,
      "outputs": [
        {
          "output_type": "stream",
          "name": "stdout",
          "text": [
            "tensor(5269.7837, grad_fn=<DivBackward0>)\n"
          ]
        }
      ]
    },
    {
      "cell_type": "markdown",
      "source": [
        "# Compute Gradients"
      ],
      "metadata": {
        "id": "v2DQHadhU600"
      }
    },
    {
      "cell_type": "code",
      "source": [
        "loss.backward()"
      ],
      "metadata": {
        "id": "wsp9lnMqU9v4"
      },
      "execution_count": 32,
      "outputs": []
    },
    {
      "cell_type": "code",
      "source": [
        "print(w)\n",
        "print(w.grad)"
      ],
      "metadata": {
        "colab": {
          "base_uri": "https://localhost:8080/"
        },
        "id": "sDxHfBeYZHT1",
        "outputId": "854c7ac6-55d3-4d89-e986-6d2e13540e29"
      },
      "execution_count": 33,
      "outputs": [
        {
          "output_type": "stream",
          "name": "stdout",
          "text": [
            "tensor([[ 1.3537, -0.6997,  0.2358],\n",
            "        [ 0.6098, -0.3540,  0.1082]], requires_grad=True)\n",
            "tensor([[ -235.9073, -2447.0210, -1044.9994],\n",
            "        [-5310.1064, -7078.1909, -4115.5972]])\n"
          ]
        }
      ]
    },
    {
      "cell_type": "code",
      "source": [
        "# reset gradients to zero lest pytorch accumulates , gradients.\n",
        "\n",
        "w.grad.zero_()\n",
        "b.grad.zero_()\n",
        "\n",
        "print(w.grad)\n",
        "print(b.grad)"
      ],
      "metadata": {
        "colab": {
          "base_uri": "https://localhost:8080/"
        },
        "id": "k-pvOmZvZklD",
        "outputId": "aa20c9fe-49f2-4adb-aea8-6cc099b8c89f"
      },
      "execution_count": 35,
      "outputs": [
        {
          "output_type": "stream",
          "name": "stdout",
          "text": [
            "tensor([[0., 0., 0.],\n",
            "        [0., 0., 0.]])\n",
            "tensor([0., 0.])\n"
          ]
        }
      ]
    },
    {
      "cell_type": "markdown",
      "source": [
        "# gradient descent: adjust weights\n"
      ],
      "metadata": {
        "id": "R9Ag_sQ-aCaI"
      }
    },
    {
      "cell_type": "code",
      "source": [
        "preds = model(inputs)\n",
        "print(preds)"
      ],
      "metadata": {
        "colab": {
          "base_uri": "https://localhost:8080/"
        },
        "id": "J3G7Za1MbBfJ",
        "outputId": "b90324ca-05a1-4c90-9a74-1c460a1bde07"
      },
      "execution_count": 37,
      "outputs": [
        {
          "output_type": "stream",
          "name": "stdout",
          "text": [
            "tensor([[ 62.8825,  23.7625],\n",
            "        [ 77.5067,  29.5768],\n",
            "        [ 38.4912,  10.2064],\n",
            "        [117.5170,  49.2923],\n",
            "        [ 43.5430,  13.9789]], grad_fn=<AddBackward0>)\n"
          ]
        }
      ]
    },
    {
      "cell_type": "code",
      "source": [
        "loss = mse(preds, targets)\n",
        "loss"
      ],
      "metadata": {
        "colab": {
          "base_uri": "https://localhost:8080/"
        },
        "id": "DTeZ6xhPbBRP",
        "outputId": "fc9f8a29-d06d-4fad-b618-3f4f528843a9"
      },
      "execution_count": 38,
      "outputs": [
        {
          "output_type": "execute_result",
          "data": {
            "text/plain": [
              "tensor(5269.7837, grad_fn=<DivBackward0>)"
            ]
          },
          "metadata": {},
          "execution_count": 38
        }
      ]
    },
    {
      "cell_type": "code",
      "source": [
        "# compute gradients\n",
        "loss.backward()\n",
        "print(w.grad)\n",
        "print(b.grad)"
      ],
      "metadata": {
        "colab": {
          "base_uri": "https://localhost:8080/"
        },
        "id": "eXyqc2oDa2b4",
        "outputId": "579ef3c1-657c-4fb6-c8e7-f41a66147b94"
      },
      "execution_count": 39,
      "outputs": [
        {
          "output_type": "stream",
          "name": "stdout",
          "text": [
            "tensor([[ -235.9073, -2447.0210, -1044.9994],\n",
            "        [-5310.1064, -7078.1909, -4115.5972]])\n",
            "tensor([ -8.2119, -66.6366])\n"
          ]
        }
      ]
    },
    {
      "cell_type": "code",
      "source": [
        "# adjust the weights\n",
        "\n",
        "with torch.no_grad():\n",
        "  w-=w.grad*1e-5\n",
        "  b-=b.grad*1e-5\n",
        "  #reset grads, not the weights lest affect future grad computations\n",
        "  w.grad.zero_()\n",
        "  b.grad.zero_()"
      ],
      "metadata": {
        "id": "P6m5X98BaOXB"
      },
      "execution_count": 40,
      "outputs": []
    },
    {
      "cell_type": "code",
      "source": [
        "print(w)\n",
        "print(b)"
      ],
      "metadata": {
        "colab": {
          "base_uri": "https://localhost:8080/"
        },
        "id": "Ofz3uLa7cGYN",
        "outputId": "03467199-ab41-4835-bc3f-7da1df6539f2"
      },
      "execution_count": 41,
      "outputs": [
        {
          "output_type": "stream",
          "name": "stdout",
          "text": [
            "tensor([[ 1.3560, -0.6752,  0.2462],\n",
            "        [ 0.6629, -0.2832,  0.1493]], requires_grad=True)\n",
            "tensor([ 0.8047, -1.6864], requires_grad=True)\n"
          ]
        }
      ]
    },
    {
      "cell_type": "markdown",
      "source": [
        "# claculate loss"
      ],
      "metadata": {
        "id": "MXGFn7hxch6C"
      }
    },
    {
      "cell_type": "code",
      "source": [
        "preds = model(inputs)\n",
        "loss = mse(preds,targets)\n",
        "print(loss)"
      ],
      "metadata": {
        "colab": {
          "base_uri": "https://localhost:8080/"
        },
        "id": "-toFzu41cLFB",
        "outputId": "2b1a5d82-3f4e-47ec-b48f-4aa2c401c861"
      },
      "execution_count": 42,
      "outputs": [
        {
          "output_type": "stream",
          "name": "stdout",
          "text": [
            "tensor(4334.9761, grad_fn=<DivBackward0>)\n"
          ]
        }
      ]
    },
    {
      "cell_type": "markdown",
      "source": [
        "# Train for Multiple Epochs"
      ],
      "metadata": {
        "id": "rEdet8Pucx3B"
      }
    },
    {
      "cell_type": "code",
      "source": [
        "for i in range(100):\n",
        "  preds = model(inputs)\n",
        "  loss = mse(preds, targets)\n",
        "  loss.backward()\n",
        "  with torch.no_grad():\n",
        "    w -= w.grad*1e-5\n",
        "    b -= b.grad*1e-5\n",
        "    w.grad.zero_()\n",
        "    b.grad.zero_()\n",
        ""
      ],
      "metadata": {
        "id": "1zmSQu0ec2Ak"
      },
      "execution_count": 43,
      "outputs": []
    },
    {
      "cell_type": "code",
      "source": [
        "preds = model(inputs)\n",
        "loss = mse(preds, targets)\n",
        "\n",
        "print(loss)\n"
      ],
      "metadata": {
        "colab": {
          "base_uri": "https://localhost:8080/"
        },
        "id": "fv77I-pJg2Ua",
        "outputId": "55bf9b42-6133-4c20-fa59-0477b6ea8a97"
      },
      "execution_count": 44,
      "outputs": [
        {
          "output_type": "stream",
          "name": "stdout",
          "text": [
            "tensor(701.3605, grad_fn=<DivBackward0>)\n"
          ]
        }
      ]
    },
    {
      "cell_type": "code",
      "source": [
        "preds"
      ],
      "metadata": {
        "colab": {
          "base_uri": "https://localhost:8080/"
        },
        "id": "yt-hrRcphG_4",
        "outputId": "a227b180-93af-4bfe-f79a-0cd72aa9900f"
      },
      "execution_count": 45,
      "outputs": [
        {
          "output_type": "execute_result",
          "data": {
            "text/plain": [
              "tensor([[ 67.3044,  76.5914],\n",
              "        [ 88.2699, 102.3743],\n",
              "        [ 88.6059, 118.9776],\n",
              "        [ 79.1557,  74.9132],\n",
              "        [ 78.7359,  99.6540]], grad_fn=<AddBackward0>)"
            ]
          },
          "metadata": {},
          "execution_count": 45
        }
      ]
    },
    {
      "cell_type": "code",
      "source": [
        "targets"
      ],
      "metadata": {
        "colab": {
          "base_uri": "https://localhost:8080/"
        },
        "id": "mLMEko8LhLr0",
        "outputId": "dc75d8ea-e3bd-433c-e226-28e80ab182dc"
      },
      "execution_count": 46,
      "outputs": [
        {
          "output_type": "execute_result",
          "data": {
            "text/plain": [
              "tensor([[ 56.,  70.],\n",
              "        [ 81., 101.],\n",
              "        [119., 133.],\n",
              "        [ 22.,  37.],\n",
              "        [103., 119.]])"
            ]
          },
          "metadata": {},
          "execution_count": 46
        }
      ]
    },
    {
      "cell_type": "markdown",
      "source": [
        "# Linear Regression Using PyTorch built-ins"
      ],
      "metadata": {
        "id": "hJmGiSjzhr_b"
      }
    },
    {
      "cell_type": "code",
      "source": [
        "import torch.nn as nn"
      ],
      "metadata": {
        "id": "ddorbbG0hjX2"
      },
      "execution_count": 54,
      "outputs": []
    },
    {
      "cell_type": "code",
      "source": [
        "# input (temp,rainfall, humidity)\n",
        "inputs = np.array([[73,67,43],\n",
        "                   [91,88,64],\n",
        "                  [87,134,58],\n",
        "                   [102, 43,37],\n",
        "                    [69,96,70],\n",
        "                     [73,67,43],\n",
        "                   [91,88,64],\n",
        "                    [87,134,58],\n",
        "                     [102, 43,37],\n",
        "                   [69,96,70],\n",
        "                    [73,67,43],\n",
        "                     [91,88,64],\n",
        "                   [87,134,58],\n",
        "                    [102, 43,37],\n",
        "                     [69,96,70]], dtype='float32')\n",
        "\n",
        "targets = np.array([[56,70],[81,101],[119,133],\n",
        "                    [22,37],[103,119],[56,70],\n",
        "                    [81,101],[119,133],[22,37],\n",
        "                    [103,119],[56,70],[81,101],\n",
        "                    [119,133],[22,37],[103,119]], dtype = 'float32')\n",
        "\n",
        "inputs = torch.from_numpy(inputs)\n",
        "targets = torch.from_numpy(targets)\n"
      ],
      "metadata": {
        "id": "mD7yoVlfiD2K"
      },
      "execution_count": 53,
      "outputs": []
    },
    {
      "cell_type": "code",
      "source": [
        "inputs"
      ],
      "metadata": {
        "colab": {
          "base_uri": "https://localhost:8080/"
        },
        "id": "n-zIZsW4kwcR",
        "outputId": "c7051d03-207f-433e-822b-93b54cd7cdf0"
      },
      "execution_count": 56,
      "outputs": [
        {
          "output_type": "execute_result",
          "data": {
            "text/plain": [
              "tensor([[ 73.,  67.,  43.],\n",
              "        [ 91.,  88.,  64.],\n",
              "        [ 87., 134.,  58.],\n",
              "        [102.,  43.,  37.],\n",
              "        [ 69.,  96.,  70.],\n",
              "        [ 73.,  67.,  43.],\n",
              "        [ 91.,  88.,  64.],\n",
              "        [ 87., 134.,  58.],\n",
              "        [102.,  43.,  37.],\n",
              "        [ 69.,  96.,  70.],\n",
              "        [ 73.,  67.,  43.],\n",
              "        [ 91.,  88.,  64.],\n",
              "        [ 87., 134.,  58.],\n",
              "        [102.,  43.,  37.],\n",
              "        [ 69.,  96.,  70.]])"
            ]
          },
          "metadata": {},
          "execution_count": 56
        }
      ]
    },
    {
      "cell_type": "code",
      "source": [
        "targets"
      ],
      "metadata": {
        "colab": {
          "base_uri": "https://localhost:8080/"
        },
        "id": "RfIg4GdBld4y",
        "outputId": "233dcc46-1001-4a09-ed5e-f2b30618eca3"
      },
      "execution_count": 57,
      "outputs": [
        {
          "output_type": "execute_result",
          "data": {
            "text/plain": [
              "tensor([[ 56.,  70.],\n",
              "        [ 81., 101.],\n",
              "        [119., 133.],\n",
              "        [ 22.,  37.],\n",
              "        [103., 119.],\n",
              "        [ 56.,  70.],\n",
              "        [ 81., 101.],\n",
              "        [119., 133.],\n",
              "        [ 22.,  37.],\n",
              "        [103., 119.],\n",
              "        [ 56.,  70.],\n",
              "        [ 81., 101.],\n",
              "        [119., 133.],\n",
              "        [ 22.,  37.],\n",
              "        [103., 119.]])"
            ]
          },
          "metadata": {},
          "execution_count": 57
        }
      ]
    },
    {
      "cell_type": "markdown",
      "source": [
        "# Dataset and DataLoader"
      ],
      "metadata": {
        "id": "yMRD3hnolq62"
      }
    },
    {
      "cell_type": "code",
      "source": [
        "from torch.utils.data import TensorDataset"
      ],
      "metadata": {
        "id": "PaOQTNNFloTo"
      },
      "execution_count": 58,
      "outputs": []
    },
    {
      "cell_type": "code",
      "source": [
        "# Define dataset\n",
        "train_ds = TensorDataset(inputs,targets)\n",
        "train_ds[0:3]"
      ],
      "metadata": {
        "colab": {
          "base_uri": "https://localhost:8080/"
        },
        "id": "nr-AV0klmFR6",
        "outputId": "ad903c09-ed3a-4839-e6d5-31270d0ef2f1"
      },
      "execution_count": 59,
      "outputs": [
        {
          "output_type": "execute_result",
          "data": {
            "text/plain": [
              "(tensor([[ 73.,  67.,  43.],\n",
              "         [ 91.,  88.,  64.],\n",
              "         [ 87., 134.,  58.]]),\n",
              " tensor([[ 56.,  70.],\n",
              "         [ 81., 101.],\n",
              "         [119., 133.]]))"
            ]
          },
          "metadata": {},
          "execution_count": 59
        }
      ]
    },
    {
      "cell_type": "code",
      "source": [
        "from torch.utils.data import DataLoader"
      ],
      "metadata": {
        "id": "MLqhNF2ymdET"
      },
      "execution_count": 60,
      "outputs": []
    },
    {
      "cell_type": "code",
      "source": [
        "# define dataloader: batch size = parts of a dataset taken for training, epoch = iteation\n",
        "batch_size = 5\n",
        "train_dl = DataLoader(train_ds,batch_size, shuffle = True)\n",
        "#it shuffles first, then create batches"
      ],
      "metadata": {
        "id": "Vx2qmSvtm3UX"
      },
      "execution_count": 70,
      "outputs": []
    },
    {
      "cell_type": "code",
      "source": [],
      "metadata": {
        "colab": {
          "base_uri": "https://localhost:8080/"
        },
        "id": "9qdBWs8Fof7T",
        "outputId": "5bf8e8fe-dd2d-402a-db6d-6310c962d2b2"
      },
      "execution_count": 68,
      "outputs": [
        {
          "output_type": "stream",
          "name": "stdout",
          "text": [
            "<torch.utils.data.dataloader.DataLoader object at 0x7d2921cb5510>\n"
          ]
        }
      ]
    },
    {
      "cell_type": "code",
      "source": [
        "# at each iteration data loade returns one batch of data, with the given batch size.\n",
        "for xb, yb in train_dl:\n",
        "\n",
        "  print(xb)\n",
        "  print(yb)\n",
        "  break"
      ],
      "metadata": {
        "colab": {
          "base_uri": "https://localhost:8080/"
        },
        "id": "jcyv_D6-nQBO",
        "outputId": "9db45dc7-d901-4b7c-8792-6c777de15abf"
      },
      "execution_count": 69,
      "outputs": [
        {
          "output_type": "stream",
          "name": "stdout",
          "text": [
            "tensor([[ 73.,  67.,  43.],\n",
            "        [ 69.,  96.,  70.],\n",
            "        [ 87., 134.,  58.],\n",
            "        [ 91.,  88.,  64.],\n",
            "        [ 73.,  67.,  43.]])\n",
            "tensor([[ 56.,  70.],\n",
            "        [103., 119.],\n",
            "        [119., 133.],\n",
            "        [ 81., 101.],\n",
            "        [ 56.,  70.]])\n"
          ]
        }
      ]
    },
    {
      "cell_type": "markdown",
      "source": [
        "# nn.Linear"
      ],
      "metadata": {
        "id": "jEERbAHqpe7U"
      }
    },
    {
      "cell_type": "code",
      "source": [
        "# define model\n",
        "model = nn.Linear(3,2)\n",
        "\n",
        "print(model.weight)\n",
        "print(model.bias)"
      ],
      "metadata": {
        "colab": {
          "base_uri": "https://localhost:8080/"
        },
        "id": "qx9zG1ZLn0XA",
        "outputId": "a5b5c447-3c0a-473c-8d2d-518add121285"
      },
      "execution_count": 71,
      "outputs": [
        {
          "output_type": "stream",
          "name": "stdout",
          "text": [
            "Parameter containing:\n",
            "tensor([[ 0.0703, -0.2514, -0.1176],\n",
            "        [-0.5081, -0.4481, -0.3377]], requires_grad=True)\n",
            "Parameter containing:\n",
            "tensor([-0.3656,  0.2580], requires_grad=True)\n"
          ]
        }
      ]
    },
    {
      "cell_type": "code",
      "source": [
        "list(model.parameters())"
      ],
      "metadata": {
        "colab": {
          "base_uri": "https://localhost:8080/"
        },
        "id": "ydrB1nwSphdl",
        "outputId": "d9d7edce-fe01-4f39-dc44-a38be8d112fb"
      },
      "execution_count": 74,
      "outputs": [
        {
          "output_type": "execute_result",
          "data": {
            "text/plain": [
              "[Parameter containing:\n",
              " tensor([[ 0.0703, -0.2514, -0.1176],\n",
              "         [-0.5081, -0.4481, -0.3377]], requires_grad=True),\n",
              " Parameter containing:\n",
              " tensor([-0.3656,  0.2580], requires_grad=True)]"
            ]
          },
          "metadata": {},
          "execution_count": 74
        }
      ]
    },
    {
      "cell_type": "code",
      "source": [
        "preds = model(inputs)\n",
        "preds"
      ],
      "metadata": {
        "colab": {
          "base_uri": "https://localhost:8080/"
        },
        "id": "OKezzfP4qfeg",
        "outputId": "16a34feb-ea15-4472-c64b-8311ea1b327f"
      },
      "execution_count": 75,
      "outputs": [
        {
          "output_type": "execute_result",
          "data": {
            "text/plain": [
              "tensor([[ -17.1357,  -81.3730],\n",
              "        [ -23.6198, -107.0189],\n",
              "        [ -34.7608, -123.5714],\n",
              "        [  -8.3569,  -83.3287],\n",
              "        [ -27.8836, -101.4510],\n",
              "        [ -17.1357,  -81.3730],\n",
              "        [ -23.6198, -107.0189],\n",
              "        [ -34.7608, -123.5714],\n",
              "        [  -8.3569,  -83.3287],\n",
              "        [ -27.8836, -101.4510],\n",
              "        [ -17.1357,  -81.3730],\n",
              "        [ -23.6198, -107.0189],\n",
              "        [ -34.7608, -123.5714],\n",
              "        [  -8.3569,  -83.3287],\n",
              "        [ -27.8836, -101.4510]], grad_fn=<AddmmBackward0>)"
            ]
          },
          "metadata": {},
          "execution_count": 75
        }
      ]
    },
    {
      "cell_type": "markdown",
      "source": [
        "# Loss Function"
      ],
      "metadata": {
        "id": "v3H7ZlgMqoJv"
      }
    },
    {
      "cell_type": "code",
      "source": [
        "import torch.nn.functional as F"
      ],
      "metadata": {
        "id": "3RckWKbbqnTx"
      },
      "execution_count": 76,
      "outputs": []
    },
    {
      "cell_type": "code",
      "source": [
        "loss_fn = F.mse_loss"
      ],
      "metadata": {
        "id": "WtsMrYMNq3sb"
      },
      "execution_count": 77,
      "outputs": []
    },
    {
      "cell_type": "code",
      "source": [
        "loss = loss_fn(model(inputs),targets)\n",
        "print(loss)"
      ],
      "metadata": {
        "colab": {
          "base_uri": "https://localhost:8080/"
        },
        "id": "lkM2G_1Fq8jc",
        "outputId": "a583d25e-d65e-4807-b0ee-7fbed1e4b9c2"
      },
      "execution_count": 78,
      "outputs": [
        {
          "output_type": "stream",
          "name": "stdout",
          "text": [
            "tensor(25308.0762, grad_fn=<MseLossBackward0>)\n"
          ]
        }
      ]
    },
    {
      "cell_type": "markdown",
      "source": [
        "# Optimizer"
      ],
      "metadata": {
        "id": "R0iOFXtqrP4m"
      }
    },
    {
      "cell_type": "code",
      "source": [
        "opt = torch.optim.SGD(model.parameters(),lr =1e-5)"
      ],
      "metadata": {
        "id": "shq50zRfrO92"
      },
      "execution_count": 79,
      "outputs": []
    },
    {
      "cell_type": "markdown",
      "source": [
        "# Train Model"
      ],
      "metadata": {
        "id": "TiAq03VJrz5Y"
      }
    },
    {
      "cell_type": "code",
      "source": [
        "def fit(num_epochs, model, loss_fn, opt, train_dl):\n",
        "\n",
        "  for epoch in range(num_epochs):\n",
        "    for xb,yb in train_dl:\n",
        "      pred = model(xb)\n",
        "      loss = loss_fn(pred, yb)\n",
        "      loss.backward()\n",
        "      opt.step()\n",
        "      opt.zero_grad()\n",
        "    if (epoch+1)%10==0:\n",
        "      print('Epoch')"
      ],
      "metadata": {
        "id": "v8rRiXY8ryV0"
      },
      "execution_count": null,
      "outputs": []
    }
  ]
}