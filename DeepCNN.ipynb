{
  "nbformat": 4,
  "nbformat_minor": 0,
  "metadata": {
    "colab": {
      "provenance": [],
      "authorship_tag": "ABX9TyOOuCJbQqZfshivdB+fiTmC",
      "include_colab_link": true
    },
    "kernelspec": {
      "name": "python3",
      "display_name": "Python 3"
    },
    "language_info": {
      "name": "python"
    }
  },
  "cells": [
    {
      "cell_type": "markdown",
      "metadata": {
        "id": "view-in-github",
        "colab_type": "text"
      },
      "source": [
        "<a href=\"https://colab.research.google.com/github/TadieB/pytorch-collab/blob/main/DeepCNN.ipynb\" target=\"_parent\"><img src=\"https://colab.research.google.com/assets/colab-badge.svg\" alt=\"Open In Colab\"/></a>"
      ]
    },
    {
      "cell_type": "markdown",
      "source": [
        "# Import Libraries"
      ],
      "metadata": {
        "id": "RrmquGg9YUJl"
      }
    },
    {
      "cell_type": "code",
      "execution_count": null,
      "metadata": {
        "id": "DvjV6OcuXhpk"
      },
      "outputs": [],
      "source": [
        "import os\n",
        "import torch\n",
        "import torchvision\n",
        "import tarfile\n",
        "\n",
        "from torchvision.datasets.utils import download_url\n",
        "from torch.utils.data import random_split"
      ]
    },
    {
      "cell_type": "markdown",
      "source": [
        "# Downloading the Dataset from url"
      ],
      "metadata": {
        "id": "PjQ2aIACa6Do"
      }
    },
    {
      "cell_type": "markdown",
      "source": [
        "+ png format images from fast.ai page"
      ],
      "metadata": {
        "id": "vzt0EUo_bBWh"
      }
    },
    {
      "cell_type": "code",
      "source": [
        "# download dataset\n",
        "dataset_url = 'https://files.fast.ai/data/examples/cifar10.tgz'\n",
        "download_url(dataset_url,'cifa10')"
      ],
      "metadata": {
        "colab": {
          "base_uri": "https://localhost:8080/"
        },
        "id": "FaEZiYTlaQty",
        "outputId": "8271f447-a4cc-46c7-92a4-15cb57fbdb13"
      },
      "execution_count": 10,
      "outputs": [
        {
          "output_type": "stream",
          "name": "stdout",
          "text": [
            "Downloading https://files.fast.ai/data/examples/cifar10.tgz to cifa10/cifar10.tgz\n"
          ]
        },
        {
          "output_type": "stream",
          "name": "stderr",
          "text": [
            "100%|██████████| 168168549/168168549 [00:01<00:00, 115917028.45it/s]\n"
          ]
        }
      ]
    },
    {
      "cell_type": "markdown",
      "source": [
        "+ The extracted dataset is saved to the directory data/cifar10\n",
        "+ cifar10 contains two folders: train, test\n",
        "+ Each of them contains 10 foldes, one for each class of images."
      ],
      "metadata": {
        "id": "KEz15wKJcM8Y"
      }
    },
    {
      "cell_type": "markdown",
      "source": [
        "# Extracting the .tgz Dataset"
      ],
      "metadata": {
        "id": "fgLPGpewTECZ"
      }
    },
    {
      "cell_type": "code",
      "source": [
        "# Extract from archive\n",
        "with tarfile.open('./cifa10/cifar10.tgz','r:gz') as tar:\n",
        "  tar.extractall(path='./data')"
      ],
      "metadata": {
        "id": "KV4JaScYbrEU"
      },
      "execution_count": 11,
      "outputs": []
    },
    {
      "cell_type": "markdown",
      "source": [
        "# Exploring the Dataset & Directory"
      ],
      "metadata": {
        "id": "GhfnLcxiTUnU"
      }
    },
    {
      "cell_type": "code",
      "source": [
        "data_dir = './data/cifar10'\n",
        "print(os.listdir(data_dir))\n",
        "classes = os.listdir(data_dir + '/train')\n",
        "print(classes)"
      ],
      "metadata": {
        "colab": {
          "base_uri": "https://localhost:8080/"
        },
        "id": "rJNpyc0HcnqB",
        "outputId": "dff0e259-06b7-4f68-fd28-c19b858d615c"
      },
      "execution_count": 13,
      "outputs": [
        {
          "output_type": "stream",
          "name": "stdout",
          "text": [
            "['test', 'labels.txt', 'train']\n",
            "['truck', 'cat', 'automobile', 'horse', 'ship', 'dog', 'deer', 'bird', 'frog', 'airplane']\n"
          ]
        }
      ]
    },
    {
      "cell_type": "code",
      "source": [
        "airplane_files = os.listdir(data_dir + \"/train/airplane\")\n",
        "print(\"No. of training examples for airplanes:\", len(airplane_files))\n",
        "print(airplane_files[:5])"
      ],
      "metadata": {
        "colab": {
          "base_uri": "https://localhost:8080/"
        },
        "id": "FugRbXPHdF5y",
        "outputId": "45644e0e-433a-4592-b7b0-be0d8475b119"
      },
      "execution_count": 14,
      "outputs": [
        {
          "output_type": "stream",
          "name": "stdout",
          "text": [
            "No. of training examples for airplanes: 5000\n",
            "['17115_airplane.png', '16965_airplane.png', '25330_airplane.png', '25746_airplane.png', '25616_airplane.png']\n"
          ]
        }
      ]
    },
    {
      "cell_type": "code",
      "source": [
        "ship_test_files = os.listdir(data_dir + \"/test/ship\")\n",
        "print(\"No. of training examples for ship:\", len(ship_test_files))\n",
        "print(ship_test_files[:5])"
      ],
      "metadata": {
        "id": "KMC6W844db0p",
        "colab": {
          "base_uri": "https://localhost:8080/"
        },
        "outputId": "50b30c21-7901-478f-84cb-c1a1bdfec33c"
      },
      "execution_count": 15,
      "outputs": [
        {
          "output_type": "stream",
          "name": "stdout",
          "text": [
            "No. of training examples for ship: 1000\n",
            "['1075_ship.png', '6684_ship.png', '1471_ship.png', '404_ship.png', '1205_ship.png']\n"
          ]
        }
      ]
    },
    {
      "cell_type": "markdown",
      "source": [
        "+ the above folder /directory/ structure (one for each class) is common in computer vision\n",
        "+ DL libraries povide utilities for working with such datasets.\n",
        "+ use ImageFolder class from torchvision to load the data as pytorch tensors."
      ],
      "metadata": {
        "id": "7V3F1mzbd0ti"
      }
    },
    {
      "cell_type": "markdown",
      "source": [
        "# Visualize the Training Set"
      ],
      "metadata": {
        "id": "-Codr-DCe6BW"
      }
    },
    {
      "cell_type": "code",
      "source": [
        "from torchvision.datasets import ImageFolder\n",
        "from torchvision.transforms import ToTensor"
      ],
      "metadata": {
        "id": "ZQ_vRkwjef3w"
      },
      "execution_count": 16,
      "outputs": []
    },
    {
      "cell_type": "code",
      "source": [
        "dataset = ImageFolder(data_dir + '/train', transform = ToTensor())"
      ],
      "metadata": {
        "id": "LO2zkqNLeOx4"
      },
      "execution_count": 17,
      "outputs": []
    },
    {
      "cell_type": "code",
      "source": [
        "dataset[0]"
      ],
      "metadata": {
        "colab": {
          "base_uri": "https://localhost:8080/"
        },
        "id": "I0e0txtWZsuf",
        "outputId": "d4332548-d1b8-49c7-a824-fcc8a186913a"
      },
      "execution_count": 26,
      "outputs": [
        {
          "output_type": "execute_result",
          "data": {
            "text/plain": [
              "(tensor([[[0.8588, 0.8588, 0.8627,  ..., 0.8510, 0.8471, 0.8392],\n",
              "          [0.8667, 0.8667, 0.8745,  ..., 0.8588, 0.8549, 0.8471],\n",
              "          [0.8667, 0.8667, 0.8745,  ..., 0.8588, 0.8549, 0.8471],\n",
              "          ...,\n",
              "          [0.8980, 0.9020, 0.9098,  ..., 0.8980, 0.8902, 0.8863],\n",
              "          [0.8471, 0.8549, 0.8706,  ..., 0.8980, 0.8902, 0.8824],\n",
              "          [0.7608, 0.7490, 0.7725,  ..., 0.8980, 0.8902, 0.8824]],\n",
              " \n",
              "         [[0.9333, 0.9333, 0.9373,  ..., 0.9176, 0.9137, 0.9059],\n",
              "          [0.9412, 0.9412, 0.9490,  ..., 0.9294, 0.9216, 0.9137],\n",
              "          [0.9412, 0.9412, 0.9490,  ..., 0.9255, 0.9216, 0.9137],\n",
              "          ...,\n",
              "          [0.9608, 0.9569, 0.9569,  ..., 0.9412, 0.9412, 0.9412],\n",
              "          [0.9020, 0.9098, 0.9255,  ..., 0.9412, 0.9412, 0.9373],\n",
              "          [0.8157, 0.8039, 0.8275,  ..., 0.9412, 0.9412, 0.9373]],\n",
              " \n",
              "         [[0.9608, 0.9608, 0.9647,  ..., 0.9490, 0.9412, 0.9412],\n",
              "          [0.9686, 0.9686, 0.9765,  ..., 0.9608, 0.9529, 0.9490],\n",
              "          [0.9686, 0.9686, 0.9765,  ..., 0.9569, 0.9529, 0.9490],\n",
              "          ...,\n",
              "          [0.9804, 0.9765, 0.9804,  ..., 0.9647, 0.9647, 0.9608],\n",
              "          [0.9176, 0.9255, 0.9373,  ..., 0.9686, 0.9647, 0.9608],\n",
              "          [0.8275, 0.8157, 0.8392,  ..., 0.9686, 0.9647, 0.9608]]]),\n",
              " 0)"
            ]
          },
          "metadata": {},
          "execution_count": 26
        }
      ]
    },
    {
      "cell_type": "code",
      "source": [
        "data_dir"
      ],
      "metadata": {
        "colab": {
          "base_uri": "https://localhost:8080/",
          "height": 36
        },
        "id": "HwpYMszoRwI4",
        "outputId": "635e2215-f9d4-404c-8b46-b1c26c3fad16"
      },
      "execution_count": 18,
      "outputs": [
        {
          "output_type": "execute_result",
          "data": {
            "text/plain": [
              "'./data/cifar10'"
            ],
            "application/vnd.google.colaboratory.intrinsic+json": {
              "type": "string"
            }
          },
          "metadata": {},
          "execution_count": 18
        }
      ]
    },
    {
      "cell_type": "markdown",
      "source": [
        "+ each element from the training set is a tuple containing an image tensor and a label\n",
        "(imagetensor, label)"
      ],
      "metadata": {
        "id": "R1rac1C5fDdN"
      }
    },
    {
      "cell_type": "code",
      "source": [
        "img, label = dataset[0]\n",
        "print(img.shape, label)\n",
        "img"
      ],
      "metadata": {
        "id": "4JW1gGecfAFl",
        "colab": {
          "base_uri": "https://localhost:8080/"
        },
        "outputId": "edc4b3a4-831b-44ac-c2d8-9c90bae7b827"
      },
      "execution_count": 19,
      "outputs": [
        {
          "output_type": "stream",
          "name": "stdout",
          "text": [
            "torch.Size([3, 32, 32]) 0\n"
          ]
        },
        {
          "output_type": "execute_result",
          "data": {
            "text/plain": [
              "tensor([[[0.8588, 0.8588, 0.8627,  ..., 0.8510, 0.8471, 0.8392],\n",
              "         [0.8667, 0.8667, 0.8745,  ..., 0.8588, 0.8549, 0.8471],\n",
              "         [0.8667, 0.8667, 0.8745,  ..., 0.8588, 0.8549, 0.8471],\n",
              "         ...,\n",
              "         [0.8980, 0.9020, 0.9098,  ..., 0.8980, 0.8902, 0.8863],\n",
              "         [0.8471, 0.8549, 0.8706,  ..., 0.8980, 0.8902, 0.8824],\n",
              "         [0.7608, 0.7490, 0.7725,  ..., 0.8980, 0.8902, 0.8824]],\n",
              "\n",
              "        [[0.9333, 0.9333, 0.9373,  ..., 0.9176, 0.9137, 0.9059],\n",
              "         [0.9412, 0.9412, 0.9490,  ..., 0.9294, 0.9216, 0.9137],\n",
              "         [0.9412, 0.9412, 0.9490,  ..., 0.9255, 0.9216, 0.9137],\n",
              "         ...,\n",
              "         [0.9608, 0.9569, 0.9569,  ..., 0.9412, 0.9412, 0.9412],\n",
              "         [0.9020, 0.9098, 0.9255,  ..., 0.9412, 0.9412, 0.9373],\n",
              "         [0.8157, 0.8039, 0.8275,  ..., 0.9412, 0.9412, 0.9373]],\n",
              "\n",
              "        [[0.9608, 0.9608, 0.9647,  ..., 0.9490, 0.9412, 0.9412],\n",
              "         [0.9686, 0.9686, 0.9765,  ..., 0.9608, 0.9529, 0.9490],\n",
              "         [0.9686, 0.9686, 0.9765,  ..., 0.9569, 0.9529, 0.9490],\n",
              "         ...,\n",
              "         [0.9804, 0.9765, 0.9804,  ..., 0.9647, 0.9647, 0.9608],\n",
              "         [0.9176, 0.9255, 0.9373,  ..., 0.9686, 0.9647, 0.9608],\n",
              "         [0.8275, 0.8157, 0.8392,  ..., 0.9686, 0.9647, 0.9608]]])"
            ]
          },
          "metadata": {},
          "execution_count": 19
        }
      ]
    },
    {
      "cell_type": "code",
      "source": [
        "print(dataset.classes)"
      ],
      "metadata": {
        "colab": {
          "base_uri": "https://localhost:8080/"
        },
        "id": "K3G_HARUUCei",
        "outputId": "23870be0-ed8a-4ce6-e430-018c4cffd382"
      },
      "execution_count": 20,
      "outputs": [
        {
          "output_type": "stream",
          "name": "stdout",
          "text": [
            "['airplane', 'automobile', 'bird', 'cat', 'deer', 'dog', 'frog', 'horse', 'ship', 'truck']\n"
          ]
        }
      ]
    },
    {
      "cell_type": "code",
      "source": [
        "f = open(\"./data/cifar10/labels.txt\", \"r\")\n",
        "print(f.read())"
      ],
      "metadata": {
        "colab": {
          "base_uri": "https://localhost:8080/"
        },
        "id": "uR2_yhM4USRt",
        "outputId": "c688a708-fb68-422e-8936-ea6046b7ce98"
      },
      "execution_count": 22,
      "outputs": [
        {
          "output_type": "stream",
          "name": "stdout",
          "text": [
            "airplane\n",
            "automobile\n",
            "bird\n",
            "cat\n",
            "deer\n",
            "dog\n",
            "frog\n",
            "horse\n",
            "ship\n",
            "truck\n",
            "\n"
          ]
        }
      ]
    },
    {
      "cell_type": "markdown",
      "source": [
        "+ Changing the Tenso Dimensions to (32,32,3)"
      ],
      "metadata": {
        "id": "BmTL3Gb5W4xE"
      }
    },
    {
      "cell_type": "code",
      "source": [
        "import matplotlib.pyplot as plt\n",
        "%matplotlib inline\n",
        "def show_example(img, label):\n",
        "  print('Label: ', dataset.classes[label],\"(\"+str(label)+\")\")\n",
        "  plt.imshow(img.permute(1,2,0))"
      ],
      "metadata": {
        "id": "EVeZyvk3WtCF"
      },
      "execution_count": 29,
      "outputs": []
    },
    {
      "cell_type": "markdown",
      "source": [
        "+ The permute(1, 2, 0) operation swaps the dimensions in such a way that the tensor is rearranged to (H, W, C).\n",
        "\n",
        "+ C = no. of channels , H = height, W = weight"
      ],
      "metadata": {
        "id": "DMsqb-E1Y4Rs"
      }
    },
    {
      "cell_type": "code",
      "source": [
        "img, label = dataset[0]\n",
        "show_example(img, label)"
      ],
      "metadata": {
        "colab": {
          "base_uri": "https://localhost:8080/",
          "height": 448
        },
        "id": "MPH8v20wZE9o",
        "outputId": "08eb153c-e619-42de-e8af-8f16b7388298"
      },
      "execution_count": 36,
      "outputs": [
        {
          "output_type": "stream",
          "name": "stdout",
          "text": [
            "Label:  airplane (0)\n"
          ]
        },
        {
          "output_type": "display_data",
          "data": {
            "text/plain": [
              "<Figure size 640x480 with 1 Axes>"
            ],
            "image/png": "[encoded data removed]"
          },
          "metadata": {}
        }
      ]
    },
    {
      "cell_type": "code",
      "source": [
        "show_example(*dataset[10099])"
      ],
      "metadata": {
        "colab": {
          "base_uri": "https://localhost:8080/",
          "height": 448
        },
        "id": "NImAYI1Mac6w",
        "outputId": "9485d927-21cc-47e9-bafa-1e2ba743f97b"
      },
      "execution_count": 38,
      "outputs": [
        {
          "output_type": "stream",
          "name": "stdout",
          "text": [
            "Label:  bird (2)\n"
          ]
        },
        {
          "output_type": "display_data",
          "data": {
            "text/plain": [
              "<Figure size 640x480 with 1 Axes>"
            ],
            "image/png": "[encoded data removed]"
          },
          "metadata": {}
        }
      ]
    },
    {
      "cell_type": "markdown",
      "source": [
        "# Training and Validation Datasets"
      ],
      "metadata": {
        "id": "yvgdm223bTAr"
      }
    },
    {
      "cell_type": "markdown",
      "source": [
        "+ Training set - used to train the model i.e. compute the loss and adjust the weights of the model using gradient descent.\n",
        "\n",
        "+ Validation set - used to evaluate the model while training, adjust hypepaameters (learning rate, reg, etc) and pick the best vesion of the model.\n",
        "\n",
        "+ Test set - used to compare diffeent models, or different types of modeling approaches, and report the final accuracy of the model."
      ],
      "metadata": {
        "id": "NFLypsinbtes"
      }
    },
    {
      "cell_type": "code",
      "source": [
        "random_seed = 42\n",
        "torch.manual_seed(random_seed)\n",
        "# Using the same seed ensures that random operations,\n",
        "# like initializing weights or shuffling data,\n",
        "# will produce the same results each time the code is run."
      ],
      "metadata": {
        "colab": {
          "base_uri": "https://localhost:8080/"
        },
        "id": "tnuYnjiFa7On",
        "outputId": "efeaec0d-c75d-4095-e813-b42b68976828"
      },
      "execution_count": 42,
      "outputs": [
        {
          "output_type": "execute_result",
          "data": {
            "text/plain": [
              "<torch._C.Generator at 0x7b34d8339610>"
            ]
          },
          "metadata": {},
          "execution_count": 42
        }
      ]
    },
    {
      "cell_type": "code",
      "source": [
        "val_size = 5000\n",
        "train_size = len(dataset)-val_size\n",
        "\n",
        "train_ds, val_ds = random_split(dataset, [train_size, val_size])\n",
        "len(train_ds), len(val_ds)"
      ],
      "metadata": {
        "colab": {
          "base_uri": "https://localhost:8080/"
        },
        "id": "DDiojnXyc9Yx",
        "outputId": "da469244-d197-423d-d2fa-1acb82652bde"
      },
      "execution_count": 41,
      "outputs": [
        {
          "output_type": "execute_result",
          "data": {
            "text/plain": [
              "(45000, 5000)"
            ]
          },
          "metadata": {},
          "execution_count": 41
        }
      ]
    },
    {
      "cell_type": "code",
      "source": [],
      "metadata": {
        "id": "3t5eCTXSdfjj"
      },
      "execution_count": null,
      "outputs": []
    }
  ]
}